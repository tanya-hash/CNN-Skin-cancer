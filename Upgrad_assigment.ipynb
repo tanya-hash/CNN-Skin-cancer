{
  "nbformat": 4,
  "nbformat_minor": 0,
  "metadata": {
    "colab": {
      "provenance": [],
      "gpuType": "T4"
    },
    "kernelspec": {
      "name": "python3",
      "display_name": "Python 3"
    },
    "language_info": {
      "name": "python"
    },
    "gpuClass": "standard",
    "accelerator": "GPU"
  },
  "cells": [
    {
      "cell_type": "markdown",
      "source": [
        "Random crops, flips, Affine, C Saturation, Contrast,\n",
        "Brightness, and Hue"
      ],
      "metadata": {
        "id": "3mWLb9bQkY0A"
      }
    },
    {
      "cell_type": "code",
      "execution_count": null,
      "metadata": {
        "id": "A0UHZDMGNnbs"
      },
      "outputs": [],
      "source": [
        "import tensorflow as tf\n",
        "import os\n",
        "from tensorflow.keras.layers import Conv2D, Convolution2D\n",
        "from tensorflow.keras.layers import MaxPooling2D\n",
        "from tensorflow.keras.layers import Flatten\n",
        "from tensorflow.keras.layers import Dropout\n",
        "from tensorflow.keras.layers import Dense\n",
        "from tensorflow.keras.layers import BatchNormalization\n",
        "from tensorflow.keras.models import Sequential\n",
        "from tensorflow.keras.optimizers import Adam, SGD\n",
        "from tensorflow.keras.optimizers import legacy\n",
        "from tensorflow.keras.preprocessing.image  import ImageDataGenerator\n",
        "from tensorflow.keras.callbacks import ModelCheckpoint\n",
        "import warnings\n",
        "warnings.filterwarnings(\"ignore\")"
      ]
    },
    {
      "cell_type": "code",
      "source": [
        "model = Sequential()\n",
        "\n",
        "# Conv 01 Layer\n",
        "model.add(Convolution2D(96, 11,padding = \"valid\",strides =(4, 4),input_shape = (224, 224, 3),activation = \"relu\"))\n",
        "\n",
        "model.add(MaxPooling2D(pool_size = (2, 2),strides = (2, 2),padding=\"valid\"))\n",
        "model.add(BatchNormalization())\n",
        "\n",
        "\n",
        "\n",
        "# Conv 02 Layer\n",
        "model.add(Convolution2D(256, 5,padding = \"valid\",strides =(1, 1),activation = \"relu\"))\n",
        "\n",
        "model.add(MaxPooling2D(pool_size = (2, 2),strides = (2, 2),padding=\"valid\"))\n",
        "model.add(BatchNormalization())\n",
        "\n",
        "\n",
        "# Conv 03 Layer\n",
        "model.add(Convolution2D(384, 3,padding = \"valid\",strides =(1, 1),activation = \"relu\"))\n",
        "model.add(BatchNormalization())\n",
        "\n",
        "\n",
        "# Conv 04 Layer\n",
        "model.add(Convolution2D(384, 3,padding = \"valid\",strides =(1, 1),activation = \"relu\"))\n",
        "model.add(BatchNormalization())\n",
        "\n",
        "\n",
        "\n",
        "# Conv 05 Layer\n",
        "model.add(Convolution2D(256, 3,padding = \"valid\",strides =(1, 1),activation = \"relu\"))\n",
        "\n",
        "model.add(MaxPooling2D(pool_size = (3, 3),strides = (2, 2),padding=\"valid\"))\n",
        "model.add(BatchNormalization())\n",
        "\n",
        "\n",
        "# Flatten Layer\n",
        "model.add(Flatten())\n",
        "\n",
        "\n",
        "# Dense 01\n",
        "model.add(Dense(4096, activation=\"relu\"))\n",
        "model.add(Dropout(0.2))\n",
        "model.add(BatchNormalization())\n",
        "\n",
        "\n",
        "# Dense 02\n",
        "model.add(Dense(4096, activation=\"relu\"))\n",
        "model.add(Dropout(0.2))\n",
        "model.add(BatchNormalization())\n",
        "\n",
        "\n",
        "# Dense 03\n",
        "model.add(Dense(1000, activation=\"relu\"))\n",
        "model.add(Dropout(0.2))\n",
        "model.add(BatchNormalization())\n",
        "\n",
        "\n",
        "# Final Layer\n",
        "model.add(Dense(9, activation=\"softmax\"))"
      ],
      "metadata": {
        "id": "23h0aE0BNpc4"
      },
      "execution_count": null,
      "outputs": []
    },
    {
      "cell_type": "code",
      "source": [
        "model.summary()"
      ],
      "metadata": {
        "id": "mcCP_5D1N4Sq",
        "colab": {
          "base_uri": "https://localhost:8080/"
        },
        "outputId": "b016c780-91b0-4f97-f1ce-ee3969af903d"
      },
      "execution_count": null,
      "outputs": [
        {
          "output_type": "stream",
          "name": "stdout",
          "text": [
            "Model: \"sequential\"\n",
            "_________________________________________________________________\n",
            " Layer (type)                Output Shape              Param #   \n",
            "=================================================================\n",
            " conv2d (Conv2D)             (None, 54, 54, 96)        34944     \n",
            "                                                                 \n",
            " max_pooling2d (MaxPooling2D  (None, 27, 27, 96)       0         \n",
            " )                                                               \n",
            "                                                                 \n",
            " batch_normalization (BatchN  (None, 27, 27, 96)       384       \n",
            " ormalization)                                                   \n",
            "                                                                 \n",
            " conv2d_1 (Conv2D)           (None, 23, 23, 256)       614656    \n",
            "                                                                 \n",
            " max_pooling2d_1 (MaxPooling  (None, 11, 11, 256)      0         \n",
            " 2D)                                                             \n",
            "                                                                 \n",
            " batch_normalization_1 (Batc  (None, 11, 11, 256)      1024      \n",
            " hNormalization)                                                 \n",
            "                                                                 \n",
            " conv2d_2 (Conv2D)           (None, 9, 9, 384)         885120    \n",
            "                                                                 \n",
            " batch_normalization_2 (Batc  (None, 9, 9, 384)        1536      \n",
            " hNormalization)                                                 \n",
            "                                                                 \n",
            " conv2d_3 (Conv2D)           (None, 7, 7, 384)         1327488   \n",
            "                                                                 \n",
            " batch_normalization_3 (Batc  (None, 7, 7, 384)        1536      \n",
            " hNormalization)                                                 \n",
            "                                                                 \n",
            " conv2d_4 (Conv2D)           (None, 5, 5, 256)         884992    \n",
            "                                                                 \n",
            " max_pooling2d_2 (MaxPooling  (None, 2, 2, 256)        0         \n",
            " 2D)                                                             \n",
            "                                                                 \n",
            " batch_normalization_4 (Batc  (None, 2, 2, 256)        1024      \n",
            " hNormalization)                                                 \n",
            "                                                                 \n",
            " flatten (Flatten)           (None, 1024)              0         \n",
            "                                                                 \n",
            " dense (Dense)               (None, 4096)              4198400   \n",
            "                                                                 \n",
            " dropout (Dropout)           (None, 4096)              0         \n",
            "                                                                 \n",
            " batch_normalization_5 (Batc  (None, 4096)             16384     \n",
            " hNormalization)                                                 \n",
            "                                                                 \n",
            " dense_1 (Dense)             (None, 4096)              16781312  \n",
            "                                                                 \n",
            " dropout_1 (Dropout)         (None, 4096)              0         \n",
            "                                                                 \n",
            " batch_normalization_6 (Batc  (None, 4096)             16384     \n",
            " hNormalization)                                                 \n",
            "                                                                 \n",
            " dense_2 (Dense)             (None, 1000)              4097000   \n",
            "                                                                 \n",
            " dropout_2 (Dropout)         (None, 1000)              0         \n",
            "                                                                 \n",
            " batch_normalization_7 (Batc  (None, 1000)             4000      \n",
            " hNormalization)                                                 \n",
            "                                                                 \n",
            " dense_3 (Dense)             (None, 9)                 9009      \n",
            "                                                                 \n",
            "=================================================================\n",
            "Total params: 28,875,193\n",
            "Trainable params: 28,854,057\n",
            "Non-trainable params: 21,136\n",
            "_________________________________________________________________\n"
          ]
        }
      ]
    },
    {
      "cell_type": "code",
      "source": [
        "optimizer = legacy.SGD(learning_rate=0.01, decay=0.005,momentum=0.9)\n",
        "\n",
        "model.compile(optimizer=optimizer, loss = \"categorical_crossentropy\", metrics = [\"accuracy\"])"
      ],
      "metadata": {
        "id": "_qIPaB7fN9LV"
      },
      "execution_count": null,
      "outputs": []
    },
    {
      "cell_type": "code",
      "source": [
        "from google.colab import drive\n",
        "drive.mount('/content/gdrive/')"
      ],
      "metadata": {
        "id": "OvM--vlcOCVi",
        "colab": {
          "base_uri": "https://localhost:8080/"
        },
        "outputId": "2d3456d7-5e72-4c23-d389-57f694b4a7b1"
      },
      "execution_count": null,
      "outputs": [
        {
          "output_type": "stream",
          "name": "stdout",
          "text": [
            "Mounted at /content/gdrive/\n"
          ]
        }
      ]
    },
    {
      "cell_type": "code",
      "source": [
        "datasets_directory = \"/content/gdrive/MyDrive/Skin cancer ISIC The International Skin Imaging Collaboration\""
      ],
      "metadata": {
        "id": "3vce0_ExONUU"
      },
      "execution_count": null,
      "outputs": []
    },
    {
      "cell_type": "code",
      "source": [
        "batch_size = 128"
      ],
      "metadata": {
        "id": "3ta-7EW_OU4U"
      },
      "execution_count": null,
      "outputs": []
    },
    {
      "cell_type": "code",
      "source": [
        "train_dataGenerator = ImageDataGenerator(rescale = 1./255,\n",
        "                                        shear_range = 0.2, \n",
        "                                        zoom_range=0.2,\n",
        "                                         width_shift_range=0.2,\n",
        "                                         height_shift_range=0.2, \n",
        "                                         fill_mode=\"nearest\"\n",
        "                                        )\n",
        "\n",
        "validation_dataGenerator = ImageDataGenerator(rescale = 1./255)"
      ],
      "metadata": {
        "id": "RSrlIuVjOm7U"
      },
      "execution_count": null,
      "outputs": []
    },
    {
      "cell_type": "code",
      "source": [
        "trainDatasets = train_dataGenerator.flow_from_directory(datasets_directory+\"/Train\", \n",
        "                                                       target_size=(224, 224),\n",
        "                                                       batch_size=128, \n",
        "                                                       class_mode=\"categorical\")\n",
        "\n",
        "validationDatasets = validation_dataGenerator.flow_from_directory(datasets_directory+\"/Test\", \n",
        "                                                       target_size=(224, 224),\n",
        "                                                       batch_size=32, \n",
        "                                                       class_mode=\"categorical\")"
      ],
      "metadata": {
        "colab": {
          "base_uri": "https://localhost:8080/"
        },
        "id": "Lsxn-y0ycKtD",
        "outputId": "d7d8c87c-0a83-4bd9-ee9b-4fcef6812acf"
      },
      "execution_count": null,
      "outputs": [
        {
          "output_type": "stream",
          "name": "stdout",
          "text": [
            "Found 2247 images belonging to 9 classes.\n",
            "Found 118 images belonging to 9 classes.\n"
          ]
        }
      ]
    },
    {
      "cell_type": "code",
      "source": [
        "classInformation = trainDatasets.class_indices\n",
        "print(\"Class Information: {}\".format(classInformation))\n",
        "classes = list(classInformation)\n",
        "print(\"Class Names: {}\".format(classes))"
      ],
      "metadata": {
        "colab": {
          "base_uri": "https://localhost:8080/"
        },
        "id": "oDeRPOUqcNGJ",
        "outputId": "a4cc309e-de2d-4c8b-8fcd-cff4eab397df"
      },
      "execution_count": null,
      "outputs": [
        {
          "output_type": "stream",
          "name": "stdout",
          "text": [
            "Class Information: {'actinic keratosis': 0, 'basal cell carcinoma': 1, 'dermatofibroma': 2, 'melanoma': 3, 'nevus': 4, 'pigmented benign keratosis': 5, 'seborrheic keratosis': 6, 'squamous cell carcinoma': 7, 'vascular lesion': 8}\n",
            "Class Names: ['actinic keratosis', 'basal cell carcinoma', 'dermatofibroma', 'melanoma', 'nevus', 'pigmented benign keratosis', 'seborrheic keratosis', 'squamous cell carcinoma', 'vascular lesion']\n"
          ]
        }
      ]
    },
    {
      "cell_type": "code",
      "source": [
        "classSamplesT = trainDatasets.samples\n",
        "print(\"Training Data Samples: {}\".format(classSamplesT))\n",
        "classSamplesV = validationDatasets.samples\n",
        "print(\"Validation Data Samples: {}\".format(classSamplesV))"
      ],
      "metadata": {
        "colab": {
          "base_uri": "https://localhost:8080/"
        },
        "id": "sXt2Y_Vvfw0G",
        "outputId": "bc858355-afa5-4972-8025-8349af026414"
      },
      "execution_count": null,
      "outputs": [
        {
          "output_type": "stream",
          "name": "stdout",
          "text": [
            "Training Data Samples: 2247\n",
            "Validation Data Samples: 118\n"
          ]
        }
      ]
    },
    {
      "cell_type": "code",
      "source": [
        "weghtPath = \"best_weights_9.hdf5\"\n",
        "checkPoint = ModelCheckpoint(weghtPath, monitor=\"val_accuracy\", verbose = 1, save_best_only = True, save_weghts_only = True, mode = \"max\")\n",
        "callBacksList = [checkPoint]"
      ],
      "metadata": {
        "id": "8Mzc00HLfhgA"
      },
      "execution_count": null,
      "outputs": []
    },
    {
      "cell_type": "code",
      "source": [
        "history = model.fit(trainDatasets, \n",
        "                   steps_per_epoch = classSamplesT//128, \n",
        "                   validation_data=validationDatasets, \n",
        "                   epochs=20, \n",
        "                   validation_steps=classSamplesV//32, \n",
        "                   callbacks=callBacksList)"
      ],
      "metadata": {
        "colab": {
          "base_uri": "https://localhost:8080/"
        },
        "id": "fbcBeQ_1fmRt",
        "outputId": "dc09ca35-fbef-4b7e-84ab-1cc418eee82e"
      },
      "execution_count": null,
      "outputs": [
        {
          "output_type": "stream",
          "name": "stdout",
          "text": [
            "Epoch 1/20\n",
            "17/17 [==============================] - ETA: 0s - loss: 2.4627 - accuracy: 0.2780 \n",
            "Epoch 1: val_accuracy improved from -inf to 0.05208, saving model to best_weights_9.hdf5\n",
            "17/17 [==============================] - 906s 53s/step - loss: 2.4627 - accuracy: 0.2780 - val_loss: 129.8428 - val_accuracy: 0.0521\n",
            "Epoch 2/20\n",
            "17/17 [==============================] - ETA: 0s - loss: 2.0805 - accuracy: 0.3539\n",
            "Epoch 2: val_accuracy improved from 0.05208 to 0.11458, saving model to best_weights_9.hdf5\n",
            "17/17 [==============================] - 78s 5s/step - loss: 2.0805 - accuracy: 0.3539 - val_loss: 185.2011 - val_accuracy: 0.1146\n",
            "Epoch 3/20\n",
            "17/17 [==============================] - ETA: 0s - loss: 1.8803 - accuracy: 0.4153\n",
            "Epoch 3: val_accuracy improved from 0.11458 to 0.14583, saving model to best_weights_9.hdf5\n",
            "17/17 [==============================] - 76s 5s/step - loss: 1.8803 - accuracy: 0.4153 - val_loss: 77.5757 - val_accuracy: 0.1458\n",
            "Epoch 4/20\n",
            "17/17 [==============================] - ETA: 0s - loss: 1.6763 - accuracy: 0.4346\n",
            "Epoch 4: val_accuracy did not improve from 0.14583\n",
            "17/17 [==============================] - 76s 4s/step - loss: 1.6763 - accuracy: 0.4346 - val_loss: 74.0875 - val_accuracy: 0.1354\n",
            "Epoch 5/20\n",
            "17/17 [==============================] - ETA: 0s - loss: 1.5902 - accuracy: 0.4469\n",
            "Epoch 5: val_accuracy did not improve from 0.14583\n",
            "17/17 [==============================] - 76s 4s/step - loss: 1.5902 - accuracy: 0.4469 - val_loss: 15.5276 - val_accuracy: 0.0312\n",
            "Epoch 6/20\n",
            "17/17 [==============================] - ETA: 0s - loss: 1.5567 - accuracy: 0.4512\n",
            "Epoch 6: val_accuracy did not improve from 0.14583\n",
            "17/17 [==============================] - 75s 4s/step - loss: 1.5567 - accuracy: 0.4512 - val_loss: 17.9351 - val_accuracy: 0.1146\n",
            "Epoch 7/20\n",
            "17/17 [==============================] - ETA: 0s - loss: 1.5239 - accuracy: 0.4790\n",
            "Epoch 7: val_accuracy improved from 0.14583 to 0.15625, saving model to best_weights_9.hdf5\n",
            "17/17 [==============================] - 78s 5s/step - loss: 1.5239 - accuracy: 0.4790 - val_loss: 9.2194 - val_accuracy: 0.1562\n",
            "Epoch 8/20\n",
            "17/17 [==============================] - ETA: 0s - loss: 1.4492 - accuracy: 0.4880\n",
            "Epoch 8: val_accuracy did not improve from 0.15625\n",
            "17/17 [==============================] - 76s 4s/step - loss: 1.4492 - accuracy: 0.4880 - val_loss: 5.1575 - val_accuracy: 0.1354\n",
            "Epoch 9/20\n",
            "17/17 [==============================] - ETA: 0s - loss: 1.4214 - accuracy: 0.4998\n",
            "Epoch 9: val_accuracy did not improve from 0.15625\n",
            "17/17 [==============================] - 76s 5s/step - loss: 1.4214 - accuracy: 0.4998 - val_loss: 4.2189 - val_accuracy: 0.0625\n",
            "Epoch 10/20\n",
            "17/17 [==============================] - ETA: 0s - loss: 1.3806 - accuracy: 0.5059\n",
            "Epoch 10: val_accuracy did not improve from 0.15625\n",
            "17/17 [==============================] - 76s 5s/step - loss: 1.3806 - accuracy: 0.5059 - val_loss: 2.8500 - val_accuracy: 0.1042\n",
            "Epoch 11/20\n",
            "17/17 [==============================] - ETA: 0s - loss: 1.3642 - accuracy: 0.5149\n",
            "Epoch 11: val_accuracy improved from 0.15625 to 0.21875, saving model to best_weights_9.hdf5\n",
            "17/17 [==============================] - 77s 5s/step - loss: 1.3642 - accuracy: 0.5149 - val_loss: 2.1446 - val_accuracy: 0.2188\n",
            "Epoch 12/20\n",
            "17/17 [==============================] - ETA: 0s - loss: 1.3531 - accuracy: 0.5106\n",
            "Epoch 12: val_accuracy improved from 0.21875 to 0.23958, saving model to best_weights_9.hdf5\n",
            "17/17 [==============================] - 77s 5s/step - loss: 1.3531 - accuracy: 0.5106 - val_loss: 2.0679 - val_accuracy: 0.2396\n",
            "Epoch 13/20\n",
            "17/17 [==============================] - ETA: 0s - loss: 1.3455 - accuracy: 0.5229\n",
            "Epoch 13: val_accuracy improved from 0.23958 to 0.26042, saving model to best_weights_9.hdf5\n",
            "17/17 [==============================] - 85s 5s/step - loss: 1.3455 - accuracy: 0.5229 - val_loss: 2.0903 - val_accuracy: 0.2604\n",
            "Epoch 14/20\n",
            "17/17 [==============================] - ETA: 0s - loss: 1.3180 - accuracy: 0.5319\n",
            "Epoch 14: val_accuracy did not improve from 0.26042\n",
            "17/17 [==============================] - 75s 4s/step - loss: 1.3180 - accuracy: 0.5319 - val_loss: 2.4093 - val_accuracy: 0.1875\n",
            "Epoch 15/20\n",
            "17/17 [==============================] - ETA: 0s - loss: 1.3171 - accuracy: 0.5380\n",
            "Epoch 15: val_accuracy did not improve from 0.26042\n",
            "17/17 [==============================] - 83s 5s/step - loss: 1.3171 - accuracy: 0.5380 - val_loss: 2.2817 - val_accuracy: 0.2083\n",
            "Epoch 16/20\n",
            "17/17 [==============================] - ETA: 0s - loss: 1.3131 - accuracy: 0.5219\n",
            "Epoch 16: val_accuracy did not improve from 0.26042\n",
            "17/17 [==============================] - 76s 4s/step - loss: 1.3131 - accuracy: 0.5219 - val_loss: 2.2272 - val_accuracy: 0.1771\n",
            "Epoch 17/20\n",
            "17/17 [==============================] - ETA: 0s - loss: 1.3332 - accuracy: 0.5234\n",
            "Epoch 17: val_accuracy did not improve from 0.26042\n",
            "17/17 [==============================] - 85s 5s/step - loss: 1.3332 - accuracy: 0.5234 - val_loss: 2.2925 - val_accuracy: 0.1667\n",
            "Epoch 18/20\n",
            "17/17 [==============================] - ETA: 0s - loss: 1.2919 - accuracy: 0.5281\n",
            "Epoch 18: val_accuracy did not improve from 0.26042\n",
            "17/17 [==============================] - 76s 4s/step - loss: 1.2919 - accuracy: 0.5281 - val_loss: 2.0836 - val_accuracy: 0.2500\n",
            "Epoch 19/20\n",
            "17/17 [==============================] - ETA: 0s - loss: 1.2405 - accuracy: 0.5512\n",
            "Epoch 19: val_accuracy improved from 0.26042 to 0.27083, saving model to best_weights_9.hdf5\n",
            "17/17 [==============================] - 77s 5s/step - loss: 1.2405 - accuracy: 0.5512 - val_loss: 2.0722 - val_accuracy: 0.2708\n",
            "Epoch 20/20\n",
            "17/17 [==============================] - ETA: 0s - loss: 1.2020 - accuracy: 0.5663\n",
            "Epoch 20: val_accuracy improved from 0.27083 to 0.29167, saving model to best_weights_9.hdf5\n",
            "17/17 [==============================] - 76s 5s/step - loss: 1.2020 - accuracy: 0.5663 - val_loss: 2.0350 - val_accuracy: 0.2917\n"
          ]
        }
      ]
    },
    {
      "cell_type": "code",
      "source": [
        "#plotting training values\n",
        "import matplotlib.pyplot as plt\n",
        "import seaborn as sns\n",
        "sns.set()\n",
        "\n",
        "acc = history.history['accuracy']\n",
        "val_acc = history.history['val_accuracy']\n",
        "loss = history.history['loss']\n",
        "val_loss = history.history['val_loss']\n",
        "epochs = range(1, len(loss) + 1)\n",
        "\n",
        "#accuracy plot\n",
        "plt.plot(epochs, acc, color='green', label='Training Accuracy')\n",
        "plt.plot(epochs, val_acc, color='blue', label='Validation Accuracy')\n",
        "plt.title('Training and Validation Accuracy')\n",
        "plt.ylabel('Accuracy')\n",
        "plt.xlabel('Epoch')\n",
        "plt.legend()\n",
        "\n",
        "plt.figure()\n",
        "#loss plot\n",
        "plt.plot(epochs, loss, color='pink', label='Training Loss')\n",
        "plt.plot(epochs, val_loss, color='red', label='Validation Loss')\n",
        "plt.title('Training and Validation Loss')\n",
        "plt.xlabel('Epoch')\n",
        "plt.ylabel('Loss')\n",
        "plt.legend()\n",
        "\n",
        "plt.show()"
      ],
      "metadata": {
        "id": "42q19yeSf6YV",
        "colab": {
          "base_uri": "https://localhost:8080/",
          "height": 943
        },
        "outputId": "f256329e-085b-4ea4-c050-96e126fb96f1"
      },
      "execution_count": null,
      "outputs": [
        {
          "output_type": "display_data",
          "data": {
            "text/plain": [
              "<Figure size 640x480 with 1 Axes>"
            ],
            "image/png": "[encoded data removed]"
          },
          "metadata": {}
        },
        {
          "output_type": "display_data",
          "data": {
            "text/plain": [
              "<Figure size 640x480 with 1 Axes>"
            ],
            "image/png": "[encoded data removed]"
          },
          "metadata": {}
        }
      ]
    },
    {
      "cell_type": "markdown",
      "source": [
        "Data Augmentation"
      ],
      "metadata": {
        "id": "TV_NTV664a8P"
      }
    },
    {
      "cell_type": "code",
      "source": [
        "file_names = os.listdir(datasets_directory+\"/Train/actinic keratosis\")\n",
        "print(file_names)"
      ],
      "metadata": {
        "colab": {
          "base_uri": "https://localhost:8080/"
        },
        "id": "duOBaScx4nOf",
        "outputId": "6188e0ee-3c21-433d-a420-86543216793b"
      },
      "execution_count": null,
      "outputs": [
        {
          "output_type": "stream",
          "name": "stdout",
          "text": [
            "['ISIC_0025957.jpg', 'ISIC_0025780.jpg', 'ISIC_0026457.jpg', 'ISIC_0026040.jpg', 'ISIC_0026171.jpg', 'ISIC_0025992.jpg', 'ISIC_0026212.jpg', 'ISIC_0025953.jpg', 'ISIC_0026194.jpg', 'ISIC_0026149.jpg', 'ISIC_0025825.jpg', 'ISIC_0025803.jpg', 'ISIC_0028820.jpg', 'ISIC_0027896.jpg', 'ISIC_0028558.jpg', 'ISIC_0026650.jpg', 'ISIC_0028370.jpg', 'ISIC_0027580.jpg', 'ISIC_0027650.jpg', 'ISIC_0026709.jpg', 'ISIC_0026984.jpg', 'ISIC_0027536.jpg', 'ISIC_0027172.jpg', 'ISIC_0026625.jpg', 'ISIC_0026848.jpg', 'ISIC_0026905.jpg', 'ISIC_0027447.jpg', 'ISIC_0026702.jpg', 'ISIC_0028076.jpg', 'ISIC_0027950.jpg', 'ISIC_0026729.jpg', 'ISIC_0027254.jpg', 'ISIC_0028517.jpg', 'ISIC_0027958.jpg', 'ISIC_0027334.jpg', 'ISIC_0027452.jpg', 'ISIC_0026575.jpg', 'ISIC_0026468.jpg', 'ISIC_0026857.jpg', 'ISIC_0027884.jpg', 'ISIC_0027615.jpg', 'ISIC_0028190.jpg', 'ISIC_0027829.jpg', 'ISIC_0028393.jpg', 'ISIC_0027802.jpg', 'ISIC_0026765.jpg', 'ISIC_0027562.jpg', 'ISIC_0026626.jpg', 'ISIC_0028063.jpg', 'ISIC_0027668.jpg', 'ISIC_0026525.jpg', 'ISIC_0028314.jpg', 'ISIC_0031108.jpg', 'ISIC_0029827.jpg', 'ISIC_0029460.jpg', 'ISIC_0031292.jpg', 'ISIC_0029659.jpg', 'ISIC_0029133.jpg', 'ISIC_0030586.jpg', 'ISIC_0029041.jpg', 'ISIC_0029915.jpg', 'ISIC_0029930.jpg', 'ISIC_0031228.jpg', 'ISIC_0030463.jpg', 'ISIC_0030242.jpg', 'ISIC_0030730.jpg', 'ISIC_0028941.jpg', 'ISIC_0030826.jpg', 'ISIC_0029900.jpg', 'ISIC_0030344.jpg', 'ISIC_0030825.jpg', 'ISIC_0030877.jpg', 'ISIC_0029713.jpg', 'ISIC_0031040.jpg', 'ISIC_0029141.jpg', 'ISIC_0030408.jpg', 'ISIC_0030655.jpg', 'ISIC_0030143.jpg', 'ISIC_0029309.jpg', 'ISIC_0030133.jpg', 'ISIC_0029830.jpg', 'ISIC_0029210.jpg', 'ISIC_0030142.jpg', 'ISIC_0029781.jpg', 'ISIC_0029025.jpg', 'ISIC_0028854.jpg', 'ISIC_0030036.jpg', 'ISIC_0030491.jpg', 'ISIC_0029500.jpg', 'ISIC_0029840.jpg', 'ISIC_0028990.jpg', 'ISIC_0031993.jpg', 'ISIC_0032135.jpg', 'ISIC_0032854.jpg', 'ISIC_0032422.jpg', 'ISIC_0032404.jpg', 'ISIC_0033866.jpg', 'ISIC_0031381.jpg', 'ISIC_0032437.jpg', 'ISIC_0033151.jpg', 'ISIC_0033456.jpg', 'ISIC_0033811.jpg', 'ISIC_0031506.jpg', 'ISIC_0031430.jpg', 'ISIC_0033494.jpg', 'ISIC_0031922.jpg', 'ISIC_0033358.jpg', 'ISIC_0032199.jpg', 'ISIC_0033705.jpg', 'ISIC_0031609.jpg', 'ISIC_0032206.jpg', 'ISIC_0033413.jpg', 'ISIC_0031823.jpg', 'ISIC_0031335.jpg']\n"
          ]
        }
      ]
    },
    {
      "cell_type": "code",
      "source": [
        "for file_name in file_names:\n",
        "    print(file_name)\n",
        "    # Construct the full path of the image file\n",
        "    image_path = os.path.join(datasets_directory+\"/Train/actinic keratosis\", file_name)\n",
        "    #print(image_path)\n",
        "    \n",
        "    # Load the image using TensorFlow\n",
        "    image = tf.io.read_file(image_path)\n",
        "    image = tf.image.decode_image(image)\n",
        "    \n",
        "    # Apply the flip_left_right operation\n",
        "    flipped = tf.image.flip_left_right(image)\n",
        "    \n",
        "    # Save the flipped image with a new file name\n",
        "    flipped_image_path = os.path.join(datasets_directory+\"/Train/actinic keratosis\", 'flipped_' + file_name)\n",
        "    tf.io.write_file(flipped_image_path, tf.image.encode_png(flipped).numpy())\n"
      ],
      "metadata": {
        "colab": {
          "base_uri": "https://localhost:8080/"
        },
        "id": "WCwEcrrp4s7t",
        "outputId": "f285be28-34cd-410e-deda-0e074b1e68a7"
      },
      "execution_count": null,
      "outputs": [
        {
          "output_type": "stream",
          "name": "stdout",
          "text": [
            "ISIC_0025957.jpg\n",
            "/content/gdrive/MyDrive/Skin cancer ISIC The International Skin Imaging Collaboration/Train/actinic keratosis/ISIC_0025957.jpg\n",
            "ISIC_0025780.jpg\n",
            "/content/gdrive/MyDrive/Skin cancer ISIC The International Skin Imaging Collaboration/Train/actinic keratosis/ISIC_0025780.jpg\n",
            "ISIC_0026457.jpg\n",
            "/content/gdrive/MyDrive/Skin cancer ISIC The International Skin Imaging Collaboration/Train/actinic keratosis/ISIC_0026457.jpg\n",
            "ISIC_0026040.jpg\n",
            "/content/gdrive/MyDrive/Skin cancer ISIC The International Skin Imaging Collaboration/Train/actinic keratosis/ISIC_0026040.jpg\n",
            "ISIC_0026171.jpg\n",
            "/content/gdrive/MyDrive/Skin cancer ISIC The International Skin Imaging Collaboration/Train/actinic keratosis/ISIC_0026171.jpg\n",
            "ISIC_0025992.jpg\n",
            "/content/gdrive/MyDrive/Skin cancer ISIC The International Skin Imaging Collaboration/Train/actinic keratosis/ISIC_0025992.jpg\n",
            "ISIC_0026212.jpg\n",
            "/content/gdrive/MyDrive/Skin cancer ISIC The International Skin Imaging Collaboration/Train/actinic keratosis/ISIC_0026212.jpg\n",
            "ISIC_0025953.jpg\n",
            "/content/gdrive/MyDrive/Skin cancer ISIC The International Skin Imaging Collaboration/Train/actinic keratosis/ISIC_0025953.jpg\n",
            "ISIC_0026194.jpg\n",
            "/content/gdrive/MyDrive/Skin cancer ISIC The International Skin Imaging Collaboration/Train/actinic keratosis/ISIC_0026194.jpg\n",
            "ISIC_0026149.jpg\n",
            "/content/gdrive/MyDrive/Skin cancer ISIC The International Skin Imaging Collaboration/Train/actinic keratosis/ISIC_0026149.jpg\n",
            "ISIC_0025825.jpg\n",
            "/content/gdrive/MyDrive/Skin cancer ISIC The International Skin Imaging Collaboration/Train/actinic keratosis/ISIC_0025825.jpg\n",
            "ISIC_0025803.jpg\n",
            "/content/gdrive/MyDrive/Skin cancer ISIC The International Skin Imaging Collaboration/Train/actinic keratosis/ISIC_0025803.jpg\n",
            "ISIC_0028820.jpg\n",
            "/content/gdrive/MyDrive/Skin cancer ISIC The International Skin Imaging Collaboration/Train/actinic keratosis/ISIC_0028820.jpg\n",
            "ISIC_0027896.jpg\n",
            "/content/gdrive/MyDrive/Skin cancer ISIC The International Skin Imaging Collaboration/Train/actinic keratosis/ISIC_0027896.jpg\n",
            "ISIC_0028558.jpg\n",
            "/content/gdrive/MyDrive/Skin cancer ISIC The International Skin Imaging Collaboration/Train/actinic keratosis/ISIC_0028558.jpg\n",
            "ISIC_0026650.jpg\n",
            "/content/gdrive/MyDrive/Skin cancer ISIC The International Skin Imaging Collaboration/Train/actinic keratosis/ISIC_0026650.jpg\n",
            "ISIC_0028370.jpg\n",
            "/content/gdrive/MyDrive/Skin cancer ISIC The International Skin Imaging Collaboration/Train/actinic keratosis/ISIC_0028370.jpg\n",
            "ISIC_0027580.jpg\n",
            "/content/gdrive/MyDrive/Skin cancer ISIC The International Skin Imaging Collaboration/Train/actinic keratosis/ISIC_0027580.jpg\n",
            "ISIC_0027650.jpg\n",
            "/content/gdrive/MyDrive/Skin cancer ISIC The International Skin Imaging Collaboration/Train/actinic keratosis/ISIC_0027650.jpg\n",
            "ISIC_0026709.jpg\n",
            "/content/gdrive/MyDrive/Skin cancer ISIC The International Skin Imaging Collaboration/Train/actinic keratosis/ISIC_0026709.jpg\n",
            "ISIC_0026984.jpg\n",
            "/content/gdrive/MyDrive/Skin cancer ISIC The International Skin Imaging Collaboration/Train/actinic keratosis/ISIC_0026984.jpg\n",
            "ISIC_0027536.jpg\n",
            "/content/gdrive/MyDrive/Skin cancer ISIC The International Skin Imaging Collaboration/Train/actinic keratosis/ISIC_0027536.jpg\n",
            "ISIC_0027172.jpg\n",
            "/content/gdrive/MyDrive/Skin cancer ISIC The International Skin Imaging Collaboration/Train/actinic keratosis/ISIC_0027172.jpg\n",
            "ISIC_0026625.jpg\n",
            "/content/gdrive/MyDrive/Skin cancer ISIC The International Skin Imaging Collaboration/Train/actinic keratosis/ISIC_0026625.jpg\n",
            "ISIC_0026848.jpg\n",
            "/content/gdrive/MyDrive/Skin cancer ISIC The International Skin Imaging Collaboration/Train/actinic keratosis/ISIC_0026848.jpg\n",
            "ISIC_0026905.jpg\n",
            "/content/gdrive/MyDrive/Skin cancer ISIC The International Skin Imaging Collaboration/Train/actinic keratosis/ISIC_0026905.jpg\n",
            "ISIC_0027447.jpg\n",
            "/content/gdrive/MyDrive/Skin cancer ISIC The International Skin Imaging Collaboration/Train/actinic keratosis/ISIC_0027447.jpg\n",
            "ISIC_0026702.jpg\n",
            "/content/gdrive/MyDrive/Skin cancer ISIC The International Skin Imaging Collaboration/Train/actinic keratosis/ISIC_0026702.jpg\n",
            "ISIC_0028076.jpg\n",
            "/content/gdrive/MyDrive/Skin cancer ISIC The International Skin Imaging Collaboration/Train/actinic keratosis/ISIC_0028076.jpg\n",
            "ISIC_0027950.jpg\n",
            "/content/gdrive/MyDrive/Skin cancer ISIC The International Skin Imaging Collaboration/Train/actinic keratosis/ISIC_0027950.jpg\n",
            "ISIC_0026729.jpg\n",
            "/content/gdrive/MyDrive/Skin cancer ISIC The International Skin Imaging Collaboration/Train/actinic keratosis/ISIC_0026729.jpg\n",
            "ISIC_0027254.jpg\n",
            "/content/gdrive/MyDrive/Skin cancer ISIC The International Skin Imaging Collaboration/Train/actinic keratosis/ISIC_0027254.jpg\n",
            "ISIC_0028517.jpg\n",
            "/content/gdrive/MyDrive/Skin cancer ISIC The International Skin Imaging Collaboration/Train/actinic keratosis/ISIC_0028517.jpg\n",
            "ISIC_0027958.jpg\n",
            "/content/gdrive/MyDrive/Skin cancer ISIC The International Skin Imaging Collaboration/Train/actinic keratosis/ISIC_0027958.jpg\n",
            "ISIC_0027334.jpg\n",
            "/content/gdrive/MyDrive/Skin cancer ISIC The International Skin Imaging Collaboration/Train/actinic keratosis/ISIC_0027334.jpg\n",
            "ISIC_0027452.jpg\n",
            "/content/gdrive/MyDrive/Skin cancer ISIC The International Skin Imaging Collaboration/Train/actinic keratosis/ISIC_0027452.jpg\n",
            "ISIC_0026575.jpg\n",
            "/content/gdrive/MyDrive/Skin cancer ISIC The International Skin Imaging Collaboration/Train/actinic keratosis/ISIC_0026575.jpg\n",
            "ISIC_0026468.jpg\n",
            "/content/gdrive/MyDrive/Skin cancer ISIC The International Skin Imaging Collaboration/Train/actinic keratosis/ISIC_0026468.jpg\n",
            "ISIC_0026857.jpg\n",
            "/content/gdrive/MyDrive/Skin cancer ISIC The International Skin Imaging Collaboration/Train/actinic keratosis/ISIC_0026857.jpg\n",
            "ISIC_0027884.jpg\n",
            "/content/gdrive/MyDrive/Skin cancer ISIC The International Skin Imaging Collaboration/Train/actinic keratosis/ISIC_0027884.jpg\n",
            "ISIC_0027615.jpg\n",
            "/content/gdrive/MyDrive/Skin cancer ISIC The International Skin Imaging Collaboration/Train/actinic keratosis/ISIC_0027615.jpg\n",
            "ISIC_0028190.jpg\n",
            "/content/gdrive/MyDrive/Skin cancer ISIC The International Skin Imaging Collaboration/Train/actinic keratosis/ISIC_0028190.jpg\n",
            "ISIC_0027829.jpg\n",
            "/content/gdrive/MyDrive/Skin cancer ISIC The International Skin Imaging Collaboration/Train/actinic keratosis/ISIC_0027829.jpg\n",
            "ISIC_0028393.jpg\n",
            "/content/gdrive/MyDrive/Skin cancer ISIC The International Skin Imaging Collaboration/Train/actinic keratosis/ISIC_0028393.jpg\n",
            "ISIC_0027802.jpg\n",
            "/content/gdrive/MyDrive/Skin cancer ISIC The International Skin Imaging Collaboration/Train/actinic keratosis/ISIC_0027802.jpg\n",
            "ISIC_0026765.jpg\n",
            "/content/gdrive/MyDrive/Skin cancer ISIC The International Skin Imaging Collaboration/Train/actinic keratosis/ISIC_0026765.jpg\n",
            "ISIC_0027562.jpg\n",
            "/content/gdrive/MyDrive/Skin cancer ISIC The International Skin Imaging Collaboration/Train/actinic keratosis/ISIC_0027562.jpg\n",
            "ISIC_0026626.jpg\n",
            "/content/gdrive/MyDrive/Skin cancer ISIC The International Skin Imaging Collaboration/Train/actinic keratosis/ISIC_0026626.jpg\n",
            "ISIC_0028063.jpg\n",
            "/content/gdrive/MyDrive/Skin cancer ISIC The International Skin Imaging Collaboration/Train/actinic keratosis/ISIC_0028063.jpg\n",
            "ISIC_0027668.jpg\n",
            "/content/gdrive/MyDrive/Skin cancer ISIC The International Skin Imaging Collaboration/Train/actinic keratosis/ISIC_0027668.jpg\n",
            "ISIC_0026525.jpg\n",
            "/content/gdrive/MyDrive/Skin cancer ISIC The International Skin Imaging Collaboration/Train/actinic keratosis/ISIC_0026525.jpg\n",
            "ISIC_0028314.jpg\n",
            "/content/gdrive/MyDrive/Skin cancer ISIC The International Skin Imaging Collaboration/Train/actinic keratosis/ISIC_0028314.jpg\n",
            "ISIC_0031108.jpg\n",
            "/content/gdrive/MyDrive/Skin cancer ISIC The International Skin Imaging Collaboration/Train/actinic keratosis/ISIC_0031108.jpg\n",
            "ISIC_0029827.jpg\n",
            "/content/gdrive/MyDrive/Skin cancer ISIC The International Skin Imaging Collaboration/Train/actinic keratosis/ISIC_0029827.jpg\n",
            "ISIC_0029460.jpg\n",
            "/content/gdrive/MyDrive/Skin cancer ISIC The International Skin Imaging Collaboration/Train/actinic keratosis/ISIC_0029460.jpg\n",
            "ISIC_0031292.jpg\n",
            "/content/gdrive/MyDrive/Skin cancer ISIC The International Skin Imaging Collaboration/Train/actinic keratosis/ISIC_0031292.jpg\n",
            "ISIC_0029659.jpg\n",
            "/content/gdrive/MyDrive/Skin cancer ISIC The International Skin Imaging Collaboration/Train/actinic keratosis/ISIC_0029659.jpg\n",
            "ISIC_0029133.jpg\n",
            "/content/gdrive/MyDrive/Skin cancer ISIC The International Skin Imaging Collaboration/Train/actinic keratosis/ISIC_0029133.jpg\n",
            "ISIC_0030586.jpg\n",
            "/content/gdrive/MyDrive/Skin cancer ISIC The International Skin Imaging Collaboration/Train/actinic keratosis/ISIC_0030586.jpg\n",
            "ISIC_0029041.jpg\n",
            "/content/gdrive/MyDrive/Skin cancer ISIC The International Skin Imaging Collaboration/Train/actinic keratosis/ISIC_0029041.jpg\n",
            "ISIC_0029915.jpg\n",
            "/content/gdrive/MyDrive/Skin cancer ISIC The International Skin Imaging Collaboration/Train/actinic keratosis/ISIC_0029915.jpg\n",
            "ISIC_0029930.jpg\n",
            "/content/gdrive/MyDrive/Skin cancer ISIC The International Skin Imaging Collaboration/Train/actinic keratosis/ISIC_0029930.jpg\n",
            "ISIC_0031228.jpg\n",
            "/content/gdrive/MyDrive/Skin cancer ISIC The International Skin Imaging Collaboration/Train/actinic keratosis/ISIC_0031228.jpg\n",
            "ISIC_0030463.jpg\n",
            "/content/gdrive/MyDrive/Skin cancer ISIC The International Skin Imaging Collaboration/Train/actinic keratosis/ISIC_0030463.jpg\n",
            "ISIC_0030242.jpg\n",
            "/content/gdrive/MyDrive/Skin cancer ISIC The International Skin Imaging Collaboration/Train/actinic keratosis/ISIC_0030242.jpg\n",
            "ISIC_0030730.jpg\n",
            "/content/gdrive/MyDrive/Skin cancer ISIC The International Skin Imaging Collaboration/Train/actinic keratosis/ISIC_0030730.jpg\n",
            "ISIC_0028941.jpg\n",
            "/content/gdrive/MyDrive/Skin cancer ISIC The International Skin Imaging Collaboration/Train/actinic keratosis/ISIC_0028941.jpg\n",
            "ISIC_0030826.jpg\n",
            "/content/gdrive/MyDrive/Skin cancer ISIC The International Skin Imaging Collaboration/Train/actinic keratosis/ISIC_0030826.jpg\n",
            "ISIC_0029900.jpg\n",
            "/content/gdrive/MyDrive/Skin cancer ISIC The International Skin Imaging Collaboration/Train/actinic keratosis/ISIC_0029900.jpg\n",
            "ISIC_0030344.jpg\n",
            "/content/gdrive/MyDrive/Skin cancer ISIC The International Skin Imaging Collaboration/Train/actinic keratosis/ISIC_0030344.jpg\n",
            "ISIC_0030825.jpg\n",
            "/content/gdrive/MyDrive/Skin cancer ISIC The International Skin Imaging Collaboration/Train/actinic keratosis/ISIC_0030825.jpg\n",
            "ISIC_0030877.jpg\n",
            "/content/gdrive/MyDrive/Skin cancer ISIC The International Skin Imaging Collaboration/Train/actinic keratosis/ISIC_0030877.jpg\n",
            "ISIC_0029713.jpg\n",
            "/content/gdrive/MyDrive/Skin cancer ISIC The International Skin Imaging Collaboration/Train/actinic keratosis/ISIC_0029713.jpg\n",
            "ISIC_0031040.jpg\n",
            "/content/gdrive/MyDrive/Skin cancer ISIC The International Skin Imaging Collaboration/Train/actinic keratosis/ISIC_0031040.jpg\n",
            "ISIC_0029141.jpg\n",
            "/content/gdrive/MyDrive/Skin cancer ISIC The International Skin Imaging Collaboration/Train/actinic keratosis/ISIC_0029141.jpg\n",
            "ISIC_0030408.jpg\n",
            "/content/gdrive/MyDrive/Skin cancer ISIC The International Skin Imaging Collaboration/Train/actinic keratosis/ISIC_0030408.jpg\n",
            "ISIC_0030655.jpg\n",
            "/content/gdrive/MyDrive/Skin cancer ISIC The International Skin Imaging Collaboration/Train/actinic keratosis/ISIC_0030655.jpg\n",
            "ISIC_0030143.jpg\n",
            "/content/gdrive/MyDrive/Skin cancer ISIC The International Skin Imaging Collaboration/Train/actinic keratosis/ISIC_0030143.jpg\n",
            "ISIC_0029309.jpg\n",
            "/content/gdrive/MyDrive/Skin cancer ISIC The International Skin Imaging Collaboration/Train/actinic keratosis/ISIC_0029309.jpg\n",
            "ISIC_0030133.jpg\n",
            "/content/gdrive/MyDrive/Skin cancer ISIC The International Skin Imaging Collaboration/Train/actinic keratosis/ISIC_0030133.jpg\n",
            "ISIC_0029830.jpg\n",
            "/content/gdrive/MyDrive/Skin cancer ISIC The International Skin Imaging Collaboration/Train/actinic keratosis/ISIC_0029830.jpg\n",
            "ISIC_0029210.jpg\n",
            "/content/gdrive/MyDrive/Skin cancer ISIC The International Skin Imaging Collaboration/Train/actinic keratosis/ISIC_0029210.jpg\n",
            "ISIC_0030142.jpg\n",
            "/content/gdrive/MyDrive/Skin cancer ISIC The International Skin Imaging Collaboration/Train/actinic keratosis/ISIC_0030142.jpg\n",
            "ISIC_0029781.jpg\n",
            "/content/gdrive/MyDrive/Skin cancer ISIC The International Skin Imaging Collaboration/Train/actinic keratosis/ISIC_0029781.jpg\n",
            "ISIC_0029025.jpg\n",
            "/content/gdrive/MyDrive/Skin cancer ISIC The International Skin Imaging Collaboration/Train/actinic keratosis/ISIC_0029025.jpg\n",
            "ISIC_0028854.jpg\n",
            "/content/gdrive/MyDrive/Skin cancer ISIC The International Skin Imaging Collaboration/Train/actinic keratosis/ISIC_0028854.jpg\n",
            "ISIC_0030036.jpg\n",
            "/content/gdrive/MyDrive/Skin cancer ISIC The International Skin Imaging Collaboration/Train/actinic keratosis/ISIC_0030036.jpg\n",
            "ISIC_0030491.jpg\n",
            "/content/gdrive/MyDrive/Skin cancer ISIC The International Skin Imaging Collaboration/Train/actinic keratosis/ISIC_0030491.jpg\n",
            "ISIC_0029500.jpg\n",
            "/content/gdrive/MyDrive/Skin cancer ISIC The International Skin Imaging Collaboration/Train/actinic keratosis/ISIC_0029500.jpg\n",
            "ISIC_0029840.jpg\n",
            "/content/gdrive/MyDrive/Skin cancer ISIC The International Skin Imaging Collaboration/Train/actinic keratosis/ISIC_0029840.jpg\n",
            "ISIC_0028990.jpg\n",
            "/content/gdrive/MyDrive/Skin cancer ISIC The International Skin Imaging Collaboration/Train/actinic keratosis/ISIC_0028990.jpg\n",
            "ISIC_0031993.jpg\n",
            "/content/gdrive/MyDrive/Skin cancer ISIC The International Skin Imaging Collaboration/Train/actinic keratosis/ISIC_0031993.jpg\n",
            "ISIC_0032135.jpg\n",
            "/content/gdrive/MyDrive/Skin cancer ISIC The International Skin Imaging Collaboration/Train/actinic keratosis/ISIC_0032135.jpg\n",
            "ISIC_0032854.jpg\n",
            "/content/gdrive/MyDrive/Skin cancer ISIC The International Skin Imaging Collaboration/Train/actinic keratosis/ISIC_0032854.jpg\n",
            "ISIC_0032422.jpg\n",
            "/content/gdrive/MyDrive/Skin cancer ISIC The International Skin Imaging Collaboration/Train/actinic keratosis/ISIC_0032422.jpg\n",
            "ISIC_0032404.jpg\n",
            "/content/gdrive/MyDrive/Skin cancer ISIC The International Skin Imaging Collaboration/Train/actinic keratosis/ISIC_0032404.jpg\n",
            "ISIC_0033866.jpg\n",
            "/content/gdrive/MyDrive/Skin cancer ISIC The International Skin Imaging Collaboration/Train/actinic keratosis/ISIC_0033866.jpg\n",
            "ISIC_0031381.jpg\n",
            "/content/gdrive/MyDrive/Skin cancer ISIC The International Skin Imaging Collaboration/Train/actinic keratosis/ISIC_0031381.jpg\n",
            "ISIC_0032437.jpg\n",
            "/content/gdrive/MyDrive/Skin cancer ISIC The International Skin Imaging Collaboration/Train/actinic keratosis/ISIC_0032437.jpg\n",
            "ISIC_0033151.jpg\n",
            "/content/gdrive/MyDrive/Skin cancer ISIC The International Skin Imaging Collaboration/Train/actinic keratosis/ISIC_0033151.jpg\n",
            "ISIC_0033456.jpg\n",
            "/content/gdrive/MyDrive/Skin cancer ISIC The International Skin Imaging Collaboration/Train/actinic keratosis/ISIC_0033456.jpg\n",
            "ISIC_0033811.jpg\n",
            "/content/gdrive/MyDrive/Skin cancer ISIC The International Skin Imaging Collaboration/Train/actinic keratosis/ISIC_0033811.jpg\n",
            "ISIC_0031506.jpg\n",
            "/content/gdrive/MyDrive/Skin cancer ISIC The International Skin Imaging Collaboration/Train/actinic keratosis/ISIC_0031506.jpg\n",
            "ISIC_0031430.jpg\n",
            "/content/gdrive/MyDrive/Skin cancer ISIC The International Skin Imaging Collaboration/Train/actinic keratosis/ISIC_0031430.jpg\n",
            "ISIC_0033494.jpg\n",
            "/content/gdrive/MyDrive/Skin cancer ISIC The International Skin Imaging Collaboration/Train/actinic keratosis/ISIC_0033494.jpg\n",
            "ISIC_0031922.jpg\n",
            "/content/gdrive/MyDrive/Skin cancer ISIC The International Skin Imaging Collaboration/Train/actinic keratosis/ISIC_0031922.jpg\n",
            "ISIC_0033358.jpg\n",
            "/content/gdrive/MyDrive/Skin cancer ISIC The International Skin Imaging Collaboration/Train/actinic keratosis/ISIC_0033358.jpg\n",
            "ISIC_0032199.jpg\n",
            "/content/gdrive/MyDrive/Skin cancer ISIC The International Skin Imaging Collaboration/Train/actinic keratosis/ISIC_0032199.jpg\n",
            "ISIC_0033705.jpg\n",
            "/content/gdrive/MyDrive/Skin cancer ISIC The International Skin Imaging Collaboration/Train/actinic keratosis/ISIC_0033705.jpg\n",
            "ISIC_0031609.jpg\n",
            "/content/gdrive/MyDrive/Skin cancer ISIC The International Skin Imaging Collaboration/Train/actinic keratosis/ISIC_0031609.jpg\n",
            "ISIC_0032206.jpg\n",
            "/content/gdrive/MyDrive/Skin cancer ISIC The International Skin Imaging Collaboration/Train/actinic keratosis/ISIC_0032206.jpg\n",
            "ISIC_0033413.jpg\n",
            "/content/gdrive/MyDrive/Skin cancer ISIC The International Skin Imaging Collaboration/Train/actinic keratosis/ISIC_0033413.jpg\n",
            "ISIC_0031823.jpg\n",
            "/content/gdrive/MyDrive/Skin cancer ISIC The International Skin Imaging Collaboration/Train/actinic keratosis/ISIC_0031823.jpg\n",
            "ISIC_0031335.jpg\n",
            "/content/gdrive/MyDrive/Skin cancer ISIC The International Skin Imaging Collaboration/Train/actinic keratosis/ISIC_0031335.jpg\n"
          ]
        }
      ]
    },
    {
      "cell_type": "code",
      "source": [
        "file_names = os.listdir(datasets_directory+\"/Train/basal cell carcinoma\")\n",
        "print(file_names)"
      ],
      "metadata": {
        "id": "74Fm3W4b5B6f",
        "colab": {
          "base_uri": "https://localhost:8080/"
        },
        "outputId": "3dcc8190-29d4-4a18-dd9e-7ebc50703bad"
      },
      "execution_count": null,
      "outputs": [
        {
          "output_type": "stream",
          "name": "stdout",
          "text": [
            "['ISIC_0024590.jpg', 'ISIC_0024515.jpg', 'ISIC_0024665.jpg', 'ISIC_0024582.jpg', 'ISIC_0024673.jpg', 'ISIC_0024572.jpg', 'ISIC_0024573.jpg', 'ISIC_0024743.jpg', 'ISIC_0024564.jpg', 'ISIC_0024504.jpg', 'ISIC_0024632.jpg', 'ISIC_0024634.jpg', 'ISIC_0024666.jpg', 'ISIC_0024595.jpg', 'ISIC_0024787.jpg', 'ISIC_0024550.jpg', 'ISIC_0024984.jpg', 'ISIC_0024799.jpg', 'ISIC_0024848.jpg', 'ISIC_0025301.jpg', 'ISIC_0025417.jpg', 'ISIC_0025433.jpg', 'ISIC_0024949.jpg', 'ISIC_0025711.jpg', 'ISIC_0025691.jpg', 'ISIC_0024829.jpg', 'ISIC_0025718.jpg', 'ISIC_0025467.jpg', 'ISIC_0025046.jpg', 'ISIC_0025630.jpg', 'ISIC_0025557.jpg', 'ISIC_0025019.jpg', 'ISIC_0024833.jpg', 'ISIC_0024795.jpg', 'ISIC_0025576.jpg', 'ISIC_0025700.jpg', 'ISIC_0025752.jpg', 'ISIC_0024885.jpg', 'ISIC_0025144.jpg', 'ISIC_0025299.jpg', 'ISIC_0025362.jpg', 'ISIC_0025509.jpg', 'ISIC_0025731.jpg', 'ISIC_0025285.jpg', 'ISIC_0025266.jpg', 'ISIC_0024897.jpg', 'ISIC_0025513.jpg', 'ISIC_0025383.jpg', 'ISIC_0025601.jpg', 'ISIC_0025102.jpg', 'ISIC_0025260.jpg', 'ISIC_0024931.jpg', 'ISIC_0025650.jpg', 'ISIC_0025644.jpg', 'ISIC_0025530.jpg', 'ISIC_0025322.jpg', 'ISIC_0025617.jpg', 'ISIC_0025031.jpg', 'ISIC_0026282.jpg', 'ISIC_0025932.jpg', 'ISIC_0026528.jpg', 'ISIC_0026760.jpg', 'ISIC_0026117.jpg', 'ISIC_0026643.jpg', 'ISIC_0026230.jpg', 'ISIC_0025975.jpg', 'ISIC_0026453.jpg', 'ISIC_0025826.jpg', 'ISIC_0026154.jpg', 'ISIC_0026056.jpg', 'ISIC_0026496.jpg', 'ISIC_0026275.jpg', 'ISIC_0025940.jpg', 'ISIC_0026324.jpg', 'ISIC_0026321.jpg', 'ISIC_0026118.jpg', 'ISIC_0026656.jpg', 'ISIC_0026213.jpg', 'ISIC_0026192.jpg', 'ISIC_0025824.jpg', 'ISIC_0026337.jpg', 'ISIC_0026439.jpg', 'ISIC_0026090.jpg', 'ISIC_0025818.jpg', 'ISIC_0026433.jpg', 'ISIC_0026716.jpg', 'ISIC_0026687.jpg', 'ISIC_0026350.jpg', 'ISIC_0025793.jpg', 'ISIC_0026343.jpg', 'ISIC_0026091.jpg', 'ISIC_0026766.jpg', 'ISIC_0026442.jpg', 'ISIC_0025971.jpg', 'ISIC_0026574.jpg', 'ISIC_0026593.jpg', 'ISIC_0026074.jpg', 'ISIC_0026395.jpg', 'ISIC_0026668.jpg', 'ISIC_0027525.jpg', 'ISIC_0026845.jpg', 'ISIC_0027058.jpg', 'ISIC_0026988.jpg', 'ISIC_0027090.jpg', 'ISIC_0026952.jpg', 'ISIC_0027004.jpg', 'ISIC_0027189.jpg', 'ISIC_0027371.jpg', 'ISIC_0026798.jpg', 'ISIC_0027531.jpg', 'ISIC_0026902.jpg', 'ISIC_0027120.jpg', 'ISIC_0026831.jpg', 'ISIC_0027135.jpg', 'ISIC_0027175.jpg', 'ISIC_0026978.jpg', 'ISIC_0026968.jpg', 'ISIC_0027038.jpg', 'ISIC_0027146.jpg', 'ISIC_0027297.jpg', 'ISIC_0026829.jpg', 'ISIC_0027478.jpg', 'ISIC_0027433.jpg', 'ISIC_0027337.jpg', 'ISIC_0027526.jpg', 'ISIC_0026855.jpg', 'ISIC_0027291.jpg', 'ISIC_0026940.jpg', 'ISIC_0027093.jpg', 'ISIC_0026995.jpg', 'ISIC_0027425.jpg', 'ISIC_0027473.jpg', 'ISIC_0026970.jpg', 'ISIC_0027046.jpg', 'ISIC_0027229.jpg', 'ISIC_0027281.jpg', 'ISIC_0027117.jpg', 'ISIC_0026865.jpg', 'ISIC_0027057.jpg', 'ISIC_0027920.jpg', 'ISIC_0027601.jpg', 'ISIC_0027629.jpg', 'ISIC_0027814.jpg', 'ISIC_0027976.jpg', 'ISIC_0027786.jpg', 'ISIC_0028106.jpg', 'ISIC_0027631.jpg', 'ISIC_0027846.jpg', 'ISIC_0028050.jpg', 'ISIC_0028084.jpg', 'ISIC_0027544.jpg', 'ISIC_0027609.jpg', 'ISIC_0027744.jpg', 'ISIC_0028095.jpg', 'ISIC_0027774.jpg', 'ISIC_0027759.jpg', 'ISIC_0027998.jpg', 'ISIC_0027851.jpg', 'ISIC_0027819.jpg', 'ISIC_0027722.jpg', 'ISIC_0028035.jpg', 'ISIC_0027966.jpg', 'ISIC_0028059.jpg', 'ISIC_0027788.jpg', 'ISIC_0027595.jpg', 'ISIC_0027858.jpg', 'ISIC_0027546.jpg', 'ISIC_0027704.jpg', 'ISIC_0027865.jpg', 'ISIC_0028085.jpg', 'ISIC_0027915.jpg', 'ISIC_0027675.jpg', 'ISIC_0027545.jpg', 'ISIC_0028079.jpg', 'ISIC_0027825.jpg', 'ISIC_0027677.jpg', 'ISIC_0028168.jpg', 'ISIC_0028747.jpg', 'ISIC_0028670.jpg', 'ISIC_0028122.jpg', 'ISIC_0028238.jpg', 'ISIC_0028653.jpg', 'ISIC_0028671.jpg', 'ISIC_0028283.jpg', 'ISIC_0028197.jpg', 'ISIC_0028147.jpg', 'ISIC_0028693.jpg', 'ISIC_0028765.jpg', 'ISIC_0028807.jpg', 'ISIC_0028728.jpg', 'ISIC_0028687.jpg', 'ISIC_0028350.jpg', 'ISIC_0028113.jpg', 'ISIC_0028568.jpg', 'ISIC_0028577.jpg', 'ISIC_0028570.jpg', 'ISIC_0028329.jpg', 'ISIC_0028107.jpg', 'ISIC_0028419.jpg', 'ISIC_0028486.jpg', 'ISIC_0028739.jpg', 'ISIC_0028155.jpg', 'ISIC_0028316.jpg', 'ISIC_0028542.jpg', 'ISIC_0028303.jpg', 'ISIC_0028556.jpg', 'ISIC_0028688.jpg', 'ISIC_0028652.jpg', 'ISIC_0028495.jpg', 'ISIC_0028677.jpg', 'ISIC_0028719.jpg', 'ISIC_0028583.jpg', 'ISIC_0028457.jpg', 'ISIC_0028323.jpg', 'ISIC_0028964.jpg', 'ISIC_0029331.jpg', 'ISIC_0028871.jpg', 'ISIC_0028973.jpg', 'ISIC_0028928.jpg', 'ISIC_0029053.jpg', 'ISIC_0029129.jpg', 'ISIC_0029278.jpg', 'ISIC_0028994.jpg', 'ISIC_0029412.jpg', 'ISIC_0028937.jpg', 'ISIC_0029230.jpg', 'ISIC_0028818.jpg', 'ISIC_0029193.jpg', 'ISIC_0029391.jpg', 'ISIC_0029192.jpg', 'ISIC_0029352.jpg', 'ISIC_0029035.jpg', 'ISIC_0028858.jpg', 'ISIC_0028815.jpg', 'ISIC_0029466.jpg', 'ISIC_0029337.jpg', 'ISIC_0028989.jpg', 'ISIC_0029341.jpg', 'ISIC_0028814.jpg', 'ISIC_0029123.jpg', 'ISIC_0028978.jpg', 'ISIC_0029323.jpg', 'ISIC_0028980.jpg', 'ISIC_0029392.jpg', 'ISIC_0029372.jpg', 'ISIC_0028890.jpg', 'ISIC_0029342.jpg', 'ISIC_0029034.jpg', 'ISIC_0029083.jpg', 'ISIC_0029020.jpg', 'ISIC_0029220.jpg', 'ISIC_0029082.jpg', 'ISIC_0029201.jpg', 'ISIC_0029263.jpg', 'ISIC_0028877.jpg', 'ISIC_0029974.jpg', 'ISIC_0029856.jpg', 'ISIC_0029899.jpg', 'ISIC_0029564.jpg', 'ISIC_0029745.jpg', 'ISIC_0030145.jpg', 'ISIC_0029489.jpg', 'ISIC_0029546.jpg', 'ISIC_0030094.jpg', 'ISIC_0029602.jpg', 'ISIC_0029524.jpg', 'ISIC_0029515.jpg', 'ISIC_0029820.jpg', 'ISIC_0029644.jpg', 'ISIC_0030114.jpg', 'ISIC_0030096.jpg', 'ISIC_0030181.jpg', 'ISIC_0029917.jpg', 'ISIC_0029539.jpg', 'ISIC_0029831.jpg', 'ISIC_0029805.jpg', 'ISIC_0029647.jpg', 'ISIC_0029779.jpg', 'ISIC_0029501.jpg', 'ISIC_0030138.jpg', 'ISIC_0029747.jpg', 'ISIC_0029655.jpg', 'ISIC_0030233.jpg', 'ISIC_0029857.jpg', 'ISIC_0029669.jpg', 'ISIC_0030249.jpg', 'ISIC_0029919.jpg', 'ISIC_0029680.jpg', 'ISIC_0029847.jpg', 'ISIC_0029545.jpg', 'ISIC_0030230.jpg', 'ISIC_0030177.jpg', 'ISIC_0029951.jpg', 'ISIC_0030010.jpg', 'ISIC_0029755.jpg', 'ISIC_0030197.jpg', 'ISIC_0030335.jpg', 'ISIC_0030528.jpg', 'ISIC_0031056.jpg', 'ISIC_0030690.jpg', 'ISIC_0031009.jpg', 'ISIC_0030339.jpg', 'ISIC_0030800.jpg', 'ISIC_0031026.jpg', 'ISIC_0030452.jpg', 'ISIC_0030594.jpg', 'ISIC_0030644.jpg', 'ISIC_0031057.jpg', 'ISIC_0030659.jpg', 'ISIC_0030778.jpg', 'ISIC_0030915.jpg', 'ISIC_0030782.jpg', 'ISIC_0030893.jpg', 'ISIC_0030526.jpg', 'ISIC_0030712.jpg', 'ISIC_0030514.jpg', 'ISIC_0030954.jpg', 'ISIC_0030766.jpg', 'ISIC_0030511.jpg', 'ISIC_0030746.jpg', 'ISIC_0031041.jpg', 'ISIC_0030813.jpg', 'ISIC_0030271.jpg', 'ISIC_0030349.jpg', 'ISIC_0030352.jpg', 'ISIC_0030868.jpg', 'ISIC_0030403.jpg', 'ISIC_0030767.jpg', 'ISIC_0030755.jpg', 'ISIC_0030574.jpg', 'ISIC_0030314.jpg', 'ISIC_0031007.jpg', 'ISIC_0030261.jpg', 'ISIC_0030964.jpg', 'ISIC_0030737.jpg', 'ISIC_0031272.jpg', 'ISIC_0031245.jpg', 'ISIC_0031258.jpg', 'ISIC_0031539.jpg', 'ISIC_0031225.jpg', 'ISIC_0031294.jpg', 'ISIC_0031470.jpg', 'ISIC_0031284.jpg', 'ISIC_0031407.jpg', 'ISIC_0031062.jpg', 'ISIC_0031266.jpg', 'ISIC_0031450.jpg', 'ISIC_0031400.jpg', 'ISIC_0031166.jpg', 'ISIC_0031513.jpg', 'ISIC_0031526.jpg', 'ISIC_0031298.jpg', 'ISIC_0031236.jpg', 'ISIC_0031489.jpg', 'ISIC_0031063.jpg', 'ISIC_0031171.jpg', 'ISIC_0031378.jpg', 'ISIC_0031520.jpg', 'ISIC_0031318.jpg', 'ISIC_0031169.jpg', 'ISIC_0031384.jpg', 'ISIC_0031175.jpg', 'ISIC_0031413.jpg', 'ISIC_0031442.jpg', 'ISIC_0031243.jpg', 'ISIC_0031154.jpg', 'ISIC_0031095.jpg', 'ISIC_0031531.jpg', 'ISIC_0031122.jpg', 'ISIC_0031351.jpg', 'ISIC_0031140.jpg', 'ISIC_0031614.jpg', 'ISIC_0031597.jpg', 'ISIC_0031552.jpg', 'ISIC_0031569.jpg', 'ISIC_0031585.jpg']\n"
          ]
        }
      ]
    },
    {
      "cell_type": "code",
      "source": [
        "for file_name in file_names:\n",
        "    #print(file_name)\n",
        "    # Construct the full path of the image file\n",
        "    image_path = os.path.join(datasets_directory+\"/Train/basal cell carcinoma\", file_name)\n",
        "    #print(image_path)\n",
        "    \n",
        "    # Load the image using TensorFlow\n",
        "    image = tf.io.read_file(image_path)\n",
        "    image = tf.image.decode_image(image)\n",
        "    \n",
        "    # Apply the flip_left_right operation\n",
        "    flipped = tf.image.flip_left_right(image)\n",
        "    \n",
        "    # Save the flipped image with a new file name\n",
        "    flipped_image_path = os.path.join(datasets_directory+\"/Train/basal cell carcinoma\", 'flipped_' + file_name)\n",
        "    tf.io.write_file(flipped_image_path, tf.image.encode_png(flipped).numpy())"
      ],
      "metadata": {
        "colab": {
          "base_uri": "https://localhost:8080/"
        },
        "id": "36GbLz1Ec1fU",
        "outputId": "4d97b910-8a02-4ad2-b7bf-4d4d2b6eaa2c"
      },
      "execution_count": null,
      "outputs": [
        {
          "output_type": "stream",
          "name": "stdout",
          "text": [
            "ISIC_0024590.jpg\n",
            "ISIC_0024515.jpg\n",
            "ISIC_0024665.jpg\n",
            "ISIC_0024582.jpg\n",
            "ISIC_0024673.jpg\n",
            "ISIC_0024572.jpg\n",
            "ISIC_0024573.jpg\n",
            "ISIC_0024743.jpg\n",
            "ISIC_0024564.jpg\n",
            "ISIC_0024504.jpg\n",
            "ISIC_0024632.jpg\n",
            "ISIC_0024634.jpg\n",
            "ISIC_0024666.jpg\n",
            "ISIC_0024595.jpg\n",
            "ISIC_0024787.jpg\n",
            "ISIC_0024550.jpg\n",
            "ISIC_0024984.jpg\n",
            "ISIC_0024799.jpg\n",
            "ISIC_0024848.jpg\n",
            "ISIC_0025301.jpg\n",
            "ISIC_0025417.jpg\n",
            "ISIC_0025433.jpg\n",
            "ISIC_0024949.jpg\n",
            "ISIC_0025711.jpg\n",
            "ISIC_0025691.jpg\n",
            "ISIC_0024829.jpg\n",
            "ISIC_0025718.jpg\n",
            "ISIC_0025467.jpg\n",
            "ISIC_0025046.jpg\n",
            "ISIC_0025630.jpg\n",
            "ISIC_0025557.jpg\n",
            "ISIC_0025019.jpg\n",
            "ISIC_0024833.jpg\n",
            "ISIC_0024795.jpg\n",
            "ISIC_0025576.jpg\n",
            "ISIC_0025700.jpg\n",
            "ISIC_0025752.jpg\n",
            "ISIC_0024885.jpg\n",
            "ISIC_0025144.jpg\n",
            "ISIC_0025299.jpg\n",
            "ISIC_0025362.jpg\n",
            "ISIC_0025509.jpg\n",
            "ISIC_0025731.jpg\n",
            "ISIC_0025285.jpg\n",
            "ISIC_0025266.jpg\n",
            "ISIC_0024897.jpg\n",
            "ISIC_0025513.jpg\n",
            "ISIC_0025383.jpg\n",
            "ISIC_0025601.jpg\n",
            "ISIC_0025102.jpg\n",
            "ISIC_0025260.jpg\n",
            "ISIC_0024931.jpg\n",
            "ISIC_0025650.jpg\n",
            "ISIC_0025644.jpg\n",
            "ISIC_0025530.jpg\n",
            "ISIC_0025322.jpg\n",
            "ISIC_0025617.jpg\n",
            "ISIC_0025031.jpg\n",
            "ISIC_0026282.jpg\n",
            "ISIC_0025932.jpg\n",
            "ISIC_0026528.jpg\n",
            "ISIC_0026760.jpg\n",
            "ISIC_0026117.jpg\n",
            "ISIC_0026643.jpg\n",
            "ISIC_0026230.jpg\n",
            "ISIC_0025975.jpg\n",
            "ISIC_0026453.jpg\n",
            "ISIC_0025826.jpg\n",
            "ISIC_0026154.jpg\n",
            "ISIC_0026056.jpg\n",
            "ISIC_0026496.jpg\n",
            "ISIC_0026275.jpg\n",
            "ISIC_0025940.jpg\n",
            "ISIC_0026324.jpg\n",
            "ISIC_0026321.jpg\n",
            "ISIC_0026118.jpg\n",
            "ISIC_0026656.jpg\n",
            "ISIC_0026213.jpg\n",
            "ISIC_0026192.jpg\n",
            "ISIC_0025824.jpg\n",
            "ISIC_0026337.jpg\n",
            "ISIC_0026439.jpg\n",
            "ISIC_0026090.jpg\n",
            "ISIC_0025818.jpg\n",
            "ISIC_0026433.jpg\n",
            "ISIC_0026716.jpg\n",
            "ISIC_0026687.jpg\n",
            "ISIC_0026350.jpg\n",
            "ISIC_0025793.jpg\n",
            "ISIC_0026343.jpg\n",
            "ISIC_0026091.jpg\n",
            "ISIC_0026766.jpg\n",
            "ISIC_0026442.jpg\n",
            "ISIC_0025971.jpg\n",
            "ISIC_0026574.jpg\n",
            "ISIC_0026593.jpg\n",
            "ISIC_0026074.jpg\n",
            "ISIC_0026395.jpg\n",
            "ISIC_0026668.jpg\n",
            "ISIC_0027525.jpg\n",
            "ISIC_0026845.jpg\n",
            "ISIC_0027058.jpg\n",
            "ISIC_0026988.jpg\n",
            "ISIC_0027090.jpg\n",
            "ISIC_0026952.jpg\n",
            "ISIC_0027004.jpg\n",
            "ISIC_0027189.jpg\n",
            "ISIC_0027371.jpg\n",
            "ISIC_0026798.jpg\n",
            "ISIC_0027531.jpg\n",
            "ISIC_0026902.jpg\n",
            "ISIC_0027120.jpg\n",
            "ISIC_0026831.jpg\n",
            "ISIC_0027135.jpg\n",
            "ISIC_0027175.jpg\n",
            "ISIC_0026978.jpg\n",
            "ISIC_0026968.jpg\n",
            "ISIC_0027038.jpg\n",
            "ISIC_0027146.jpg\n",
            "ISIC_0027297.jpg\n",
            "ISIC_0026829.jpg\n",
            "ISIC_0027478.jpg\n",
            "ISIC_0027433.jpg\n",
            "ISIC_0027337.jpg\n",
            "ISIC_0027526.jpg\n",
            "ISIC_0026855.jpg\n",
            "ISIC_0027291.jpg\n",
            "ISIC_0026940.jpg\n",
            "ISIC_0027093.jpg\n",
            "ISIC_0026995.jpg\n",
            "ISIC_0027425.jpg\n",
            "ISIC_0027473.jpg\n",
            "ISIC_0026970.jpg\n",
            "ISIC_0027046.jpg\n",
            "ISIC_0027229.jpg\n",
            "ISIC_0027281.jpg\n",
            "ISIC_0027117.jpg\n",
            "ISIC_0026865.jpg\n",
            "ISIC_0027057.jpg\n",
            "ISIC_0027920.jpg\n",
            "ISIC_0027601.jpg\n",
            "ISIC_0027629.jpg\n",
            "ISIC_0027814.jpg\n",
            "ISIC_0027976.jpg\n",
            "ISIC_0027786.jpg\n",
            "ISIC_0028106.jpg\n",
            "ISIC_0027631.jpg\n",
            "ISIC_0027846.jpg\n",
            "ISIC_0028050.jpg\n",
            "ISIC_0028084.jpg\n",
            "ISIC_0027544.jpg\n",
            "ISIC_0027609.jpg\n",
            "ISIC_0027744.jpg\n",
            "ISIC_0028095.jpg\n",
            "ISIC_0027774.jpg\n",
            "ISIC_0027759.jpg\n",
            "ISIC_0027998.jpg\n",
            "ISIC_0027851.jpg\n",
            "ISIC_0027819.jpg\n",
            "ISIC_0027722.jpg\n",
            "ISIC_0028035.jpg\n",
            "ISIC_0027966.jpg\n",
            "ISIC_0028059.jpg\n",
            "ISIC_0027788.jpg\n",
            "ISIC_0027595.jpg\n",
            "ISIC_0027858.jpg\n",
            "ISIC_0027546.jpg\n",
            "ISIC_0027704.jpg\n",
            "ISIC_0027865.jpg\n",
            "ISIC_0028085.jpg\n",
            "ISIC_0027915.jpg\n",
            "ISIC_0027675.jpg\n",
            "ISIC_0027545.jpg\n",
            "ISIC_0028079.jpg\n",
            "ISIC_0027825.jpg\n",
            "ISIC_0027677.jpg\n",
            "ISIC_0028168.jpg\n",
            "ISIC_0028747.jpg\n",
            "ISIC_0028670.jpg\n",
            "ISIC_0028122.jpg\n",
            "ISIC_0028238.jpg\n",
            "ISIC_0028653.jpg\n",
            "ISIC_0028671.jpg\n",
            "ISIC_0028283.jpg\n",
            "ISIC_0028197.jpg\n",
            "ISIC_0028147.jpg\n",
            "ISIC_0028693.jpg\n",
            "ISIC_0028765.jpg\n",
            "ISIC_0028807.jpg\n",
            "ISIC_0028728.jpg\n",
            "ISIC_0028687.jpg\n",
            "ISIC_0028350.jpg\n",
            "ISIC_0028113.jpg\n",
            "ISIC_0028568.jpg\n",
            "ISIC_0028577.jpg\n",
            "ISIC_0028570.jpg\n",
            "ISIC_0028329.jpg\n",
            "ISIC_0028107.jpg\n",
            "ISIC_0028419.jpg\n",
            "ISIC_0028486.jpg\n",
            "ISIC_0028739.jpg\n",
            "ISIC_0028155.jpg\n",
            "ISIC_0028316.jpg\n",
            "ISIC_0028542.jpg\n",
            "ISIC_0028303.jpg\n",
            "ISIC_0028556.jpg\n",
            "ISIC_0028688.jpg\n",
            "ISIC_0028652.jpg\n",
            "ISIC_0028495.jpg\n",
            "ISIC_0028677.jpg\n",
            "ISIC_0028719.jpg\n",
            "ISIC_0028583.jpg\n",
            "ISIC_0028457.jpg\n",
            "ISIC_0028323.jpg\n",
            "ISIC_0028964.jpg\n",
            "ISIC_0029331.jpg\n",
            "ISIC_0028871.jpg\n",
            "ISIC_0028973.jpg\n",
            "ISIC_0028928.jpg\n",
            "ISIC_0029053.jpg\n",
            "ISIC_0029129.jpg\n",
            "ISIC_0029278.jpg\n",
            "ISIC_0028994.jpg\n",
            "ISIC_0029412.jpg\n",
            "ISIC_0028937.jpg\n",
            "ISIC_0029230.jpg\n",
            "ISIC_0028818.jpg\n",
            "ISIC_0029193.jpg\n",
            "ISIC_0029391.jpg\n",
            "ISIC_0029192.jpg\n",
            "ISIC_0029352.jpg\n",
            "ISIC_0029035.jpg\n",
            "ISIC_0028858.jpg\n",
            "ISIC_0028815.jpg\n",
            "ISIC_0029466.jpg\n",
            "ISIC_0029337.jpg\n",
            "ISIC_0028989.jpg\n",
            "ISIC_0029341.jpg\n",
            "ISIC_0028814.jpg\n",
            "ISIC_0029123.jpg\n",
            "ISIC_0028978.jpg\n",
            "ISIC_0029323.jpg\n",
            "ISIC_0028980.jpg\n",
            "ISIC_0029392.jpg\n",
            "ISIC_0029372.jpg\n",
            "ISIC_0028890.jpg\n",
            "ISIC_0029342.jpg\n",
            "ISIC_0029034.jpg\n",
            "ISIC_0029083.jpg\n",
            "ISIC_0029020.jpg\n",
            "ISIC_0029220.jpg\n",
            "ISIC_0029082.jpg\n",
            "ISIC_0029201.jpg\n",
            "ISIC_0029263.jpg\n",
            "ISIC_0028877.jpg\n",
            "ISIC_0029974.jpg\n",
            "ISIC_0029856.jpg\n",
            "ISIC_0029899.jpg\n",
            "ISIC_0029564.jpg\n",
            "ISIC_0029745.jpg\n",
            "ISIC_0030145.jpg\n",
            "ISIC_0029489.jpg\n",
            "ISIC_0029546.jpg\n",
            "ISIC_0030094.jpg\n",
            "ISIC_0029602.jpg\n",
            "ISIC_0029524.jpg\n",
            "ISIC_0029515.jpg\n",
            "ISIC_0029820.jpg\n",
            "ISIC_0029644.jpg\n",
            "ISIC_0030114.jpg\n",
            "ISIC_0030096.jpg\n",
            "ISIC_0030181.jpg\n",
            "ISIC_0029917.jpg\n",
            "ISIC_0029539.jpg\n",
            "ISIC_0029831.jpg\n",
            "ISIC_0029805.jpg\n",
            "ISIC_0029647.jpg\n",
            "ISIC_0029779.jpg\n",
            "ISIC_0029501.jpg\n",
            "ISIC_0030138.jpg\n",
            "ISIC_0029747.jpg\n",
            "ISIC_0029655.jpg\n",
            "ISIC_0030233.jpg\n",
            "ISIC_0029857.jpg\n",
            "ISIC_0029669.jpg\n",
            "ISIC_0030249.jpg\n",
            "ISIC_0029919.jpg\n",
            "ISIC_0029680.jpg\n",
            "ISIC_0029847.jpg\n",
            "ISIC_0029545.jpg\n",
            "ISIC_0030230.jpg\n",
            "ISIC_0030177.jpg\n",
            "ISIC_0029951.jpg\n",
            "ISIC_0030010.jpg\n",
            "ISIC_0029755.jpg\n",
            "ISIC_0030197.jpg\n",
            "ISIC_0030335.jpg\n",
            "ISIC_0030528.jpg\n",
            "ISIC_0031056.jpg\n",
            "ISIC_0030690.jpg\n",
            "ISIC_0031009.jpg\n",
            "ISIC_0030339.jpg\n",
            "ISIC_0030800.jpg\n",
            "ISIC_0031026.jpg\n",
            "ISIC_0030452.jpg\n",
            "ISIC_0030594.jpg\n",
            "ISIC_0030644.jpg\n",
            "ISIC_0031057.jpg\n",
            "ISIC_0030659.jpg\n",
            "ISIC_0030778.jpg\n",
            "ISIC_0030915.jpg\n",
            "ISIC_0030782.jpg\n",
            "ISIC_0030893.jpg\n",
            "ISIC_0030526.jpg\n",
            "ISIC_0030712.jpg\n",
            "ISIC_0030514.jpg\n",
            "ISIC_0030954.jpg\n",
            "ISIC_0030766.jpg\n",
            "ISIC_0030511.jpg\n",
            "ISIC_0030746.jpg\n",
            "ISIC_0031041.jpg\n",
            "ISIC_0030813.jpg\n",
            "ISIC_0030271.jpg\n",
            "ISIC_0030349.jpg\n",
            "ISIC_0030352.jpg\n",
            "ISIC_0030868.jpg\n",
            "ISIC_0030403.jpg\n",
            "ISIC_0030767.jpg\n",
            "ISIC_0030755.jpg\n",
            "ISIC_0030574.jpg\n",
            "ISIC_0030314.jpg\n",
            "ISIC_0031007.jpg\n",
            "ISIC_0030261.jpg\n",
            "ISIC_0030964.jpg\n",
            "ISIC_0030737.jpg\n",
            "ISIC_0031272.jpg\n",
            "ISIC_0031245.jpg\n",
            "ISIC_0031258.jpg\n",
            "ISIC_0031539.jpg\n",
            "ISIC_0031225.jpg\n",
            "ISIC_0031294.jpg\n",
            "ISIC_0031470.jpg\n",
            "ISIC_0031284.jpg\n",
            "ISIC_0031407.jpg\n",
            "ISIC_0031062.jpg\n",
            "ISIC_0031266.jpg\n",
            "ISIC_0031450.jpg\n",
            "ISIC_0031400.jpg\n",
            "ISIC_0031166.jpg\n",
            "ISIC_0031513.jpg\n",
            "ISIC_0031526.jpg\n",
            "ISIC_0031298.jpg\n",
            "ISIC_0031236.jpg\n",
            "ISIC_0031489.jpg\n",
            "ISIC_0031063.jpg\n",
            "ISIC_0031171.jpg\n",
            "ISIC_0031378.jpg\n",
            "ISIC_0031520.jpg\n",
            "ISIC_0031318.jpg\n",
            "ISIC_0031169.jpg\n",
            "ISIC_0031384.jpg\n",
            "ISIC_0031175.jpg\n",
            "ISIC_0031413.jpg\n",
            "ISIC_0031442.jpg\n",
            "ISIC_0031243.jpg\n",
            "ISIC_0031154.jpg\n",
            "ISIC_0031095.jpg\n",
            "ISIC_0031531.jpg\n",
            "ISIC_0031122.jpg\n",
            "ISIC_0031351.jpg\n",
            "ISIC_0031140.jpg\n",
            "ISIC_0031614.jpg\n",
            "ISIC_0031597.jpg\n",
            "ISIC_0031552.jpg\n",
            "ISIC_0031569.jpg\n",
            "ISIC_0031585.jpg\n"
          ]
        }
      ]
    },
    {
      "cell_type": "code",
      "source": [
        "file_names_derma = os.listdir(datasets_directory+\"/Train/dermatofibroma\")\n",
        "#print(file_names_derma)\n",
        "file_names_mel = os.listdir(datasets_directory+\"/Train/melanoma\")\n",
        "file_names_nev = os.listdir(datasets_directory+\"/Train/nevus\")\n",
        "file_names_pb = os.listdir(datasets_directory+\"/Train/pigmented benign keratosis\")\n",
        "file_names_sk = os.listdir(datasets_directory+\"/Train/seborrheic keratosis\")\n",
        "file_names_scc = os.listdir(datasets_directory+\"/Train/squamous cell carcinoma\")\n",
        "file_names_vl = os.listdir(datasets_directory+\"/Train/vascular lesion\")"
      ],
      "metadata": {
        "id": "-pSLfE_VdE0N"
      },
      "execution_count": null,
      "outputs": []
    },
    {
      "cell_type": "code",
      "source": [
        "for file_name in file_names_derma:\n",
        "    #print(file_name)\n",
        "    # Construct the full path of the image file\n",
        "    image_path = os.path.join(datasets_directory+\"/Train/dermatofibroma\", file_name)\n",
        "    #print(image_path)\n",
        "    \n",
        "    # Load the image using TensorFlow\n",
        "    image = tf.io.read_file(image_path)\n",
        "    image = tf.image.decode_image(image)\n",
        "    \n",
        "    # Apply the flip_left_right operation\n",
        "    flipped = tf.image.flip_left_right(image)\n",
        "    \n",
        "    # Save the flipped image with a new file name\n",
        "    flipped_image_path = os.path.join(datasets_directory+\"/Train/dermatofibroma\", 'flipped_' + file_name)\n",
        "    tf.io.write_file(flipped_image_path, tf.image.encode_png(flipped).numpy())"
      ],
      "metadata": {
        "id": "fv88NrDmd86u"
      },
      "execution_count": null,
      "outputs": []
    },
    {
      "cell_type": "code",
      "source": [
        "for file_name in file_names_mel:\n",
        "    #print(file_name)\n",
        "    # Construct the full path of the image file\n",
        "    image_path = os.path.join(datasets_directory+\"/Train/melanoma\", file_name)\n",
        "    #print(image_path)\n",
        "    \n",
        "    # Load the image using TensorFlow\n",
        "    image = tf.io.read_file(image_path)\n",
        "    image = tf.image.decode_image(image)\n",
        "    \n",
        "    # Apply the flip_left_right operation\n",
        "    flipped = tf.image.flip_left_right(image)\n",
        "    \n",
        "    # Save the flipped image with a new file name\n",
        "    flipped_image_path = os.path.join(datasets_directory+\"/Train/melanoma\", 'flipped_' + file_name)\n",
        "    tf.io.write_file(flipped_image_path, tf.image.encode_png(flipped).numpy())"
      ],
      "metadata": {
        "id": "dIlcbnZmeGvi"
      },
      "execution_count": null,
      "outputs": []
    },
    {
      "cell_type": "code",
      "source": [
        "for file_name in file_names_nev:\n",
        "    #print(file_name)\n",
        "    # Construct the full path of the image file\n",
        "    image_path = os.path.join(datasets_directory+\"/Train/nevus\", file_name)\n",
        "    #print(image_path)\n",
        "    \n",
        "    # Load the image using TensorFlow\n",
        "    image = tf.io.read_file(image_path)\n",
        "    image = tf.image.decode_image(image)\n",
        "    \n",
        "    # Apply the flip_left_right operation\n",
        "    flipped = tf.image.flip_left_right(image)\n",
        "    \n",
        "    # Save the flipped image with a new file name\n",
        "    flipped_image_path = os.path.join(datasets_directory+\"/Train/nevus\", 'flipped_' + file_name)\n",
        "    tf.io.write_file(flipped_image_path, tf.image.encode_png(flipped).numpy())"
      ],
      "metadata": {
        "id": "3lrByp3QeRr9"
      },
      "execution_count": null,
      "outputs": []
    },
    {
      "cell_type": "code",
      "source": [
        "for file_name in file_names_pb:\n",
        "    #print(file_name)\n",
        "    # Construct the full path of the image file\n",
        "    image_path = os.path.join(datasets_directory+\"/Train/pigmented benign keratosis\", file_name)\n",
        "    #print(image_path)\n",
        "    \n",
        "    # Load the image using TensorFlow\n",
        "    image = tf.io.read_file(image_path)\n",
        "    image = tf.image.decode_image(image)\n",
        "    \n",
        "    # Apply the flip_left_right operation\n",
        "    flipped = tf.image.flip_left_right(image)\n",
        "    \n",
        "    # Save the flipped image with a new file name\n",
        "    flipped_image_path = os.path.join(datasets_directory+\"/Train/pigmented benign keratosis\", 'flipped_' + file_name)\n",
        "    tf.io.write_file(flipped_image_path, tf.image.encode_png(flipped).numpy())"
      ],
      "metadata": {
        "id": "TSfAcc1ZeYtS"
      },
      "execution_count": null,
      "outputs": []
    },
    {
      "cell_type": "code",
      "source": [
        "for file_name in file_names_sk:\n",
        "    #print(file_name)\n",
        "    # Construct the full path of the image file\n",
        "    image_path = os.path.join(datasets_directory+\"/Train/seborrheic keratosis\", file_name)\n",
        "    #print(image_path)\n",
        "    \n",
        "    # Load the image using TensorFlow\n",
        "    image = tf.io.read_file(image_path)\n",
        "    image = tf.image.decode_image(image)\n",
        "    \n",
        "    # Apply the flip_left_right operation\n",
        "    flipped = tf.image.flip_left_right(image)\n",
        "    \n",
        "    # Save the flipped image with a new file name\n",
        "    flipped_image_path = os.path.join(datasets_directory+\"/Train/seborrheic keratosis\", 'flipped_' + file_name)\n",
        "    tf.io.write_file(flipped_image_path, tf.image.encode_png(flipped).numpy())"
      ],
      "metadata": {
        "id": "1Zo93sJ7ejDq"
      },
      "execution_count": null,
      "outputs": []
    },
    {
      "cell_type": "code",
      "source": [
        "for file_name in file_names_scc:\n",
        "    #print(file_name)\n",
        "    # Construct the full path of the image file\n",
        "    image_path = os.path.join(datasets_directory+\"/Train/squamous cell carcinoma\", file_name)\n",
        "    #print(image_path)\n",
        "    \n",
        "    # Load the image using TensorFlow\n",
        "    image = tf.io.read_file(image_path)\n",
        "    image = tf.image.decode_image(image)\n",
        "    \n",
        "    # Apply the flip_left_right operation\n",
        "    flipped = tf.image.flip_left_right(image)\n",
        "    \n",
        "    # Save the flipped image with a new file name\n",
        "    flipped_image_path = os.path.join(datasets_directory+\"/Train/squamous cell carcinoma\", 'flipped_' + file_name)\n",
        "    tf.io.write_file(flipped_image_path, tf.image.encode_png(flipped).numpy())"
      ],
      "metadata": {
        "id": "gjeDwVTAe_k_"
      },
      "execution_count": null,
      "outputs": []
    },
    {
      "cell_type": "code",
      "source": [
        "for file_name in file_names_vl:\n",
        "    #print(file_name)\n",
        "    # Construct the full path of the image file\n",
        "    image_path = os.path.join(datasets_directory+\"/Train/vascular lesion\", file_name)\n",
        "    #print(image_path)\n",
        "    \n",
        "    # Load the image using TensorFlow\n",
        "    image = tf.io.read_file(image_path)\n",
        "    image = tf.image.decode_image(image)\n",
        "    \n",
        "    # Apply the flip_left_right operation\n",
        "    flipped = tf.image.flip_left_right(image)\n",
        "    \n",
        "    # Save the flipped image with a new file name\n",
        "    flipped_image_path = os.path.join(datasets_directory+\"/Train/vascular lesion\", 'flipped_' + file_name)\n",
        "    tf.io.write_file(flipped_image_path, tf.image.encode_png(flipped).numpy())"
      ],
      "metadata": {
        "id": "0GPOaYjffKF2"
      },
      "execution_count": null,
      "outputs": []
    },
    {
      "cell_type": "code",
      "source": [
        "def cropped(image_directory):\n",
        "  for filename in os.listdir(image_directory):\n",
        "    image_path = os.path.join(image_directory, filename)\n",
        "    image = tf.io.read_file(image_path)\n",
        "    image = tf.image.decode_jpeg(image, channels=3)\n",
        "    if 'flipped' in filename:\n",
        "        image = tf.image.central_crop(image, central_fraction=0.5)\n",
        "        cropped_image_path = os.path.join(image_directory, 'cropped_' + filename)\n",
        "        tf.io.write_file(cropped_image_path, tf.image.encode_jpeg(image))\n"
      ],
      "metadata": {
        "id": "G7PQmq3-mtl-"
      },
      "execution_count": null,
      "outputs": []
    },
    {
      "cell_type": "code",
      "source": [
        "cropped(datasets_directory+\"/Train/actinic keratosis\")"
      ],
      "metadata": {
        "id": "FYJ3uaDv2zvE"
      },
      "execution_count": null,
      "outputs": []
    },
    {
      "cell_type": "code",
      "source": [
        "cropped(datasets_directory+\"/Train/basal cell carcinoma\")\n",
        "cropped(datasets_directory+\"/Train/dermatofibroma\")\n",
        "cropped(datasets_directory+\"/Train/melanoma\")\n",
        "cropped(datasets_directory+\"/Train/nevus\")"
      ],
      "metadata": {
        "colab": {
          "base_uri": "https://localhost:8080/",
          "height": 375
        },
        "id": "WjLwsl-s3mBG",
        "outputId": "72dd8a8c-8b2c-4c28-cce0-d00cc76016d8"
      },
      "execution_count": null,
      "outputs": [
        {
          "output_type": "error",
          "ename": "FileNotFoundError",
          "evalue": "ignored",
          "traceback": [
            "\u001b[0;31m---------------------------------------------------------------------------\u001b[0m",
            "\u001b[0;31mFileNotFoundError\u001b[0m                         Traceback (most recent call last)",
            "\u001b[0;32m<ipython-input-9-9b63af24abf5>\u001b[0m in \u001b[0;36m<cell line: 5>\u001b[0;34m()\u001b[0m\n\u001b[1;32m      3\u001b[0m \u001b[0mcropped\u001b[0m\u001b[0;34m(\u001b[0m\u001b[0mdatasets_directory\u001b[0m\u001b[0;34m+\u001b[0m\u001b[0;34m\"/Train/melanoma\"\u001b[0m\u001b[0;34m)\u001b[0m\u001b[0;34m\u001b[0m\u001b[0;34m\u001b[0m\u001b[0m\n\u001b[1;32m      4\u001b[0m \u001b[0mcropped\u001b[0m\u001b[0;34m(\u001b[0m\u001b[0mdatasets_directory\u001b[0m\u001b[0;34m+\u001b[0m\u001b[0;34m\"/Train/nevus\"\u001b[0m\u001b[0;34m)\u001b[0m\u001b[0;34m\u001b[0m\u001b[0;34m\u001b[0m\u001b[0m\n\u001b[0;32m----> 5\u001b[0;31m \u001b[0mcropped\u001b[0m\u001b[0;34m(\u001b[0m\u001b[0mdatasets_directory\u001b[0m\u001b[0;34m+\u001b[0m\u001b[0;34m\"/Train/pigmented benign\"\u001b[0m\u001b[0;34m)\u001b[0m\u001b[0;34m\u001b[0m\u001b[0;34m\u001b[0m\u001b[0m\n\u001b[0m\u001b[1;32m      6\u001b[0m \u001b[0mcropped\u001b[0m\u001b[0;34m(\u001b[0m\u001b[0mdatasets_directory\u001b[0m\u001b[0;34m+\u001b[0m\u001b[0;34m\"/Train/seborrheic keratosis\"\u001b[0m\u001b[0;34m)\u001b[0m\u001b[0;34m\u001b[0m\u001b[0;34m\u001b[0m\u001b[0m\n\u001b[1;32m      7\u001b[0m \u001b[0mcropped\u001b[0m\u001b[0;34m(\u001b[0m\u001b[0mdatasets_directory\u001b[0m\u001b[0;34m+\u001b[0m\u001b[0;34m\"/Train/squamous cell carcinoma\"\u001b[0m\u001b[0;34m)\u001b[0m\u001b[0;34m\u001b[0m\u001b[0;34m\u001b[0m\u001b[0m\n",
            "\u001b[0;32m<ipython-input-8-bff16af2846f>\u001b[0m in \u001b[0;36mcropped\u001b[0;34m(image_directory)\u001b[0m\n\u001b[1;32m      1\u001b[0m \u001b[0;32mdef\u001b[0m \u001b[0mcropped\u001b[0m\u001b[0;34m(\u001b[0m\u001b[0mimage_directory\u001b[0m\u001b[0;34m)\u001b[0m\u001b[0;34m:\u001b[0m\u001b[0;34m\u001b[0m\u001b[0;34m\u001b[0m\u001b[0m\n\u001b[0;32m----> 2\u001b[0;31m   \u001b[0;32mfor\u001b[0m \u001b[0mfilename\u001b[0m \u001b[0;32min\u001b[0m \u001b[0mos\u001b[0m\u001b[0;34m.\u001b[0m\u001b[0mlistdir\u001b[0m\u001b[0;34m(\u001b[0m\u001b[0mimage_directory\u001b[0m\u001b[0;34m)\u001b[0m\u001b[0;34m:\u001b[0m\u001b[0;34m\u001b[0m\u001b[0;34m\u001b[0m\u001b[0m\n\u001b[0m\u001b[1;32m      3\u001b[0m     \u001b[0mimage_path\u001b[0m \u001b[0;34m=\u001b[0m \u001b[0mos\u001b[0m\u001b[0;34m.\u001b[0m\u001b[0mpath\u001b[0m\u001b[0;34m.\u001b[0m\u001b[0mjoin\u001b[0m\u001b[0;34m(\u001b[0m\u001b[0mimage_directory\u001b[0m\u001b[0;34m,\u001b[0m \u001b[0mfilename\u001b[0m\u001b[0;34m)\u001b[0m\u001b[0;34m\u001b[0m\u001b[0;34m\u001b[0m\u001b[0m\n\u001b[1;32m      4\u001b[0m     \u001b[0mimage\u001b[0m \u001b[0;34m=\u001b[0m \u001b[0mtf\u001b[0m\u001b[0;34m.\u001b[0m\u001b[0mio\u001b[0m\u001b[0;34m.\u001b[0m\u001b[0mread_file\u001b[0m\u001b[0;34m(\u001b[0m\u001b[0mimage_path\u001b[0m\u001b[0;34m)\u001b[0m\u001b[0;34m\u001b[0m\u001b[0;34m\u001b[0m\u001b[0m\n\u001b[1;32m      5\u001b[0m     \u001b[0mimage\u001b[0m \u001b[0;34m=\u001b[0m \u001b[0mtf\u001b[0m\u001b[0;34m.\u001b[0m\u001b[0mimage\u001b[0m\u001b[0;34m.\u001b[0m\u001b[0mdecode_jpeg\u001b[0m\u001b[0;34m(\u001b[0m\u001b[0mimage\u001b[0m\u001b[0;34m,\u001b[0m \u001b[0mchannels\u001b[0m\u001b[0;34m=\u001b[0m\u001b[0;36m3\u001b[0m\u001b[0;34m)\u001b[0m\u001b[0;34m\u001b[0m\u001b[0;34m\u001b[0m\u001b[0m\n",
            "\u001b[0;31mFileNotFoundError\u001b[0m: [Errno 2] No such file or directory: '/content/gdrive/MyDrive/Skin cancer ISIC The International Skin Imaging Collaboration/Train/pigmented benign'"
          ]
        }
      ]
    },
    {
      "cell_type": "code",
      "source": [
        "cropped(datasets_directory+\"/Train/pigmented benign keratosis\")\n",
        "cropped(datasets_directory+\"/Train/seborrheic keratosis\")\n",
        "cropped(datasets_directory+\"/Train/squamous cell carcinoma\")\n",
        "cropped(datasets_directory+\"/Train/vascular lesion\")"
      ],
      "metadata": {
        "id": "06sdqSx25XjJ"
      },
      "execution_count": null,
      "outputs": []
    },
    {
      "cell_type": "code",
      "source": [
        "train_dataGenerator_aug = ImageDataGenerator(rescale = 1./255,\n",
        "                                        shear_range = 0.2, \n",
        "                                        zoom_range=0.2,\n",
        "                                         width_shift_range=0.2,\n",
        "                                         height_shift_range=0.2, \n",
        "                                         fill_mode=\"nearest\"\n",
        "                                        )\n",
        "\n",
        "validation_dataGenerator = ImageDataGenerator(rescale = 1./255)\n",
        "\n",
        "trainDatasetsAug = train_dataGenerator_aug.flow_from_directory(datasets_directory+\"/Train\", \n",
        "                                                       target_size=(224, 224),\n",
        "                                                       batch_size=256, \n",
        "                                                       class_mode=\"categorical\")\n",
        "\n",
        "validationDatasets = validation_dataGenerator.flow_from_directory(datasets_directory+\"/Test\", \n",
        "                                                       target_size=(224, 224),\n",
        "                                                       batch_size=32, \n",
        "                                                       class_mode=\"categorical\")"
      ],
      "metadata": {
        "colab": {
          "base_uri": "https://localhost:8080/"
        },
        "id": "igPXb_Sd52zl",
        "outputId": "7697ad93-0e83-4ca3-e604-5a834a0cd29e"
      },
      "execution_count": null,
      "outputs": [
        {
          "output_type": "stream",
          "name": "stdout",
          "text": [
            "Found 6741 images belonging to 9 classes.\n",
            "Found 118 images belonging to 9 classes.\n"
          ]
        }
      ]
    },
    {
      "cell_type": "code",
      "source": [
        "classInformation = trainDatasetsAug.class_indices\n",
        "print(\"Class Information: {}\".format(classInformation))\n",
        "classes = list(classInformation)\n",
        "print(\"Class Names: {}\".format(classes))"
      ],
      "metadata": {
        "colab": {
          "base_uri": "https://localhost:8080/"
        },
        "id": "gjb1CFSy6Pez",
        "outputId": "809f1d63-3138-4a9a-8bcf-38d705d974ee"
      },
      "execution_count": null,
      "outputs": [
        {
          "output_type": "stream",
          "name": "stdout",
          "text": [
            "Class Information: {'actinic keratosis': 0, 'basal cell carcinoma': 1, 'dermatofibroma': 2, 'melanoma': 3, 'nevus': 4, 'pigmented benign keratosis': 5, 'seborrheic keratosis': 6, 'squamous cell carcinoma': 7, 'vascular lesion': 8}\n",
            "Class Names: ['actinic keratosis', 'basal cell carcinoma', 'dermatofibroma', 'melanoma', 'nevus', 'pigmented benign keratosis', 'seborrheic keratosis', 'squamous cell carcinoma', 'vascular lesion']\n"
          ]
        }
      ]
    },
    {
      "cell_type": "code",
      "source": [
        "classSamplesT = trainDatasetsAug.samples\n",
        "print(\"Training Data Samples: {}\".format(classSamplesT))\n",
        "classSamplesV = validationDatasets.samples\n",
        "print(\"Validation Data Samples: {}\".format(classSamplesV))"
      ],
      "metadata": {
        "colab": {
          "base_uri": "https://localhost:8080/"
        },
        "id": "riDGarpt62pp",
        "outputId": "19637311-57b6-46e7-ca37-b9b20fe5200b"
      },
      "execution_count": null,
      "outputs": [
        {
          "output_type": "stream",
          "name": "stdout",
          "text": [
            "Training Data Samples: 6741\n",
            "Validation Data Samples: 118\n"
          ]
        }
      ]
    },
    {
      "cell_type": "code",
      "source": [
        "weghtPath = \"best_weights_9.hdf5\"\n",
        "checkPoint = ModelCheckpoint(weghtPath, monitor=\"val_accuracy\", verbose = 1, save_best_only = True, save_weghts_only = True, mode = \"max\")\n",
        "callBacksList = [checkPoint]"
      ],
      "metadata": {
        "id": "pxfqdW8c7AaW"
      },
      "execution_count": null,
      "outputs": []
    },
    {
      "cell_type": "code",
      "source": [
        "6741//256"
      ],
      "metadata": {
        "colab": {
          "base_uri": "https://localhost:8080/"
        },
        "id": "Y8XoEIeb7HHI",
        "outputId": "16050c18-8e0f-48aa-8638-4b4b2ab1d12a"
      },
      "execution_count": null,
      "outputs": [
        {
          "output_type": "execute_result",
          "data": {
            "text/plain": [
              "26"
            ]
          },
          "metadata": {},
          "execution_count": 19
        }
      ]
    },
    {
      "cell_type": "code",
      "source": [
        "optimizer = legacy.SGD(learning_rate=0.01, decay=0.005,momentum=0.9)\n",
        "\n",
        "model.compile(optimizer=optimizer, loss = \"categorical_crossentropy\", metrics = [\"accuracy\"])"
      ],
      "metadata": {
        "id": "IfnMKfJc7yhh"
      },
      "execution_count": null,
      "outputs": []
    },
    {
      "cell_type": "code",
      "source": [
        "history = model.fit(trainDatasetsAug, \n",
        "                   steps_per_epoch = classSamplesT//256, \n",
        "                   validation_data=validationDatasets, \n",
        "                   epochs=30, \n",
        "                   validation_steps=classSamplesV//32, \n",
        "                   callbacks=callBacksList)"
      ],
      "metadata": {
        "colab": {
          "base_uri": "https://localhost:8080/"
        },
        "id": "sXEMnabH7JbO",
        "outputId": "72c9b6b5-f7c6-4a2e-dd18-284bb22f4251"
      },
      "execution_count": null,
      "outputs": [
        {
          "output_type": "stream",
          "name": "stdout",
          "text": [
            "Epoch 1/30\n",
            "26/26 [==============================] - ETA: 0s - loss: 2.2586 - accuracy: 0.2992\n",
            "Epoch 1: val_accuracy improved from -inf to 0.13542, saving model to best_weights_9.hdf5\n",
            "26/26 [==============================] - 252s 9s/step - loss: 2.2586 - accuracy: 0.2992 - val_loss: 251.7436 - val_accuracy: 0.1354\n",
            "Epoch 2/30\n",
            "26/26 [==============================] - ETA: 0s - loss: 1.7913 - accuracy: 0.4037\n",
            "Epoch 2: val_accuracy improved from 0.13542 to 0.14583, saving model to best_weights_9.hdf5\n",
            "26/26 [==============================] - 215s 8s/step - loss: 1.7913 - accuracy: 0.4037 - val_loss: 98.4995 - val_accuracy: 0.1458\n",
            "Epoch 3/30\n",
            "26/26 [==============================] - ETA: 0s - loss: 1.5874 - accuracy: 0.4518\n",
            "Epoch 3: val_accuracy did not improve from 0.14583\n",
            "26/26 [==============================] - 202s 8s/step - loss: 1.5874 - accuracy: 0.4518 - val_loss: 29.2810 - val_accuracy: 0.1354\n",
            "Epoch 4/30\n",
            "26/26 [==============================] - ETA: 0s - loss: 1.4729 - accuracy: 0.4732\n",
            "Epoch 4: val_accuracy did not improve from 0.14583\n",
            "26/26 [==============================] - 197s 8s/step - loss: 1.4729 - accuracy: 0.4732 - val_loss: 13.3963 - val_accuracy: 0.1458\n",
            "Epoch 5/30\n",
            "26/26 [==============================] - ETA: 0s - loss: 1.4187 - accuracy: 0.4830\n",
            "Epoch 5: val_accuracy did not improve from 0.14583\n",
            "26/26 [==============================] - 194s 7s/step - loss: 1.4187 - accuracy: 0.4830 - val_loss: 4.1883 - val_accuracy: 0.1354\n",
            "Epoch 6/30\n",
            "26/26 [==============================] - ETA: 0s - loss: 1.3782 - accuracy: 0.5045\n",
            "Epoch 6: val_accuracy improved from 0.14583 to 0.19792, saving model to best_weights_9.hdf5\n",
            "26/26 [==============================] - 194s 7s/step - loss: 1.3782 - accuracy: 0.5045 - val_loss: 2.8710 - val_accuracy: 0.1979\n",
            "Epoch 7/30\n",
            "26/26 [==============================] - ETA: 0s - loss: 1.3378 - accuracy: 0.5172\n",
            "Epoch 7: val_accuracy improved from 0.19792 to 0.25000, saving model to best_weights_9.hdf5\n",
            "26/26 [==============================] - 200s 8s/step - loss: 1.3378 - accuracy: 0.5172 - val_loss: 2.3675 - val_accuracy: 0.2500\n",
            "Epoch 8/30\n",
            "26/26 [==============================] - ETA: 0s - loss: 1.2987 - accuracy: 0.5301\n",
            "Epoch 8: val_accuracy improved from 0.25000 to 0.28125, saving model to best_weights_9.hdf5\n",
            "26/26 [==============================] - 192s 7s/step - loss: 1.2987 - accuracy: 0.5301 - val_loss: 2.0235 - val_accuracy: 0.2812\n",
            "Epoch 9/30\n",
            "26/26 [==============================] - ETA: 0s - loss: 1.2935 - accuracy: 0.5294\n",
            "Epoch 9: val_accuracy improved from 0.28125 to 0.32292, saving model to best_weights_9.hdf5\n",
            "26/26 [==============================] - 196s 8s/step - loss: 1.2935 - accuracy: 0.5294 - val_loss: 2.0814 - val_accuracy: 0.3229\n",
            "Epoch 10/30\n",
            "26/26 [==============================] - ETA: 0s - loss: 1.2759 - accuracy: 0.5326\n",
            "Epoch 10: val_accuracy did not improve from 0.32292\n",
            "26/26 [==============================] - 202s 8s/step - loss: 1.2759 - accuracy: 0.5326 - val_loss: 1.8874 - val_accuracy: 0.3125\n",
            "Epoch 11/30\n",
            "26/26 [==============================] - ETA: 0s - loss: 1.2425 - accuracy: 0.5533\n",
            "Epoch 11: val_accuracy improved from 0.32292 to 0.33333, saving model to best_weights_9.hdf5\n",
            "26/26 [==============================] - 200s 8s/step - loss: 1.2425 - accuracy: 0.5533 - val_loss: 2.0598 - val_accuracy: 0.3333\n",
            "Epoch 12/30\n",
            "26/26 [==============================] - ETA: 0s - loss: 1.2096 - accuracy: 0.5611\n",
            "Epoch 12: val_accuracy did not improve from 0.33333\n",
            "26/26 [==============================] - 200s 8s/step - loss: 1.2096 - accuracy: 0.5611 - val_loss: 1.9479 - val_accuracy: 0.2812\n",
            "Epoch 13/30\n",
            "26/26 [==============================] - ETA: 0s - loss: 1.2078 - accuracy: 0.5537\n",
            "Epoch 13: val_accuracy did not improve from 0.33333\n",
            "26/26 [==============================] - 193s 7s/step - loss: 1.2078 - accuracy: 0.5537 - val_loss: 1.9873 - val_accuracy: 0.3125\n",
            "Epoch 14/30\n",
            "26/26 [==============================] - ETA: 0s - loss: 1.1749 - accuracy: 0.5695\n",
            "Epoch 14: val_accuracy did not improve from 0.33333\n",
            "26/26 [==============================] - 202s 8s/step - loss: 1.1749 - accuracy: 0.5695 - val_loss: 2.0276 - val_accuracy: 0.2500\n",
            "Epoch 15/30\n",
            "14/26 [===============>..............] - ETA: 1:27 - loss: 1.1438 - accuracy: 0.5756"
          ]
        }
      ]
    },
    {
      "cell_type": "code",
      "source": [
        "import matplotlib.pyplot as plt\n",
        "import seaborn as sns\n",
        "sns.set()\n",
        "\n",
        "acc = history.history['accuracy']\n",
        "val_acc = history.history['val_accuracy']\n",
        "loss = history.history['loss']\n",
        "val_loss = history.history['val_loss']\n",
        "epochs = range(1, len(loss) + 1)\n",
        "\n",
        "#accuracy plot\n",
        "plt.plot(epochs, acc, color='green', label='Training Accuracy')\n",
        "plt.plot(epochs, val_acc, color='blue', label='Validation Accuracy')\n",
        "plt.title('Training and Validation Accuracy')\n",
        "plt.ylabel('Accuracy')\n",
        "plt.xlabel('Epoch')\n",
        "plt.legend()\n",
        "\n",
        "plt.figure()\n",
        "#loss plot\n",
        "plt.plot(epochs, loss, color='pink', label='Training Loss')\n",
        "plt.plot(epochs, val_loss, color='red', label='Validation Loss')\n",
        "plt.title('Training and Validation Loss')\n",
        "plt.xlabel('Epoch')\n",
        "plt.ylabel('Loss')\n",
        "plt.legend()\n",
        "\n",
        "plt.show()"
      ],
      "metadata": {
        "id": "CTbCaQrmcwEn",
        "outputId": "5ab8918b-27ea-492b-9b2d-609b04d64e48",
        "colab": {
          "base_uri": "https://localhost:8080/",
          "height": 236
        }
      },
      "execution_count": null,
      "outputs": [
        {
          "output_type": "error",
          "ename": "NameError",
          "evalue": "ignored",
          "traceback": [
            "\u001b[0;31m---------------------------------------------------------------------------\u001b[0m",
            "\u001b[0;31mNameError\u001b[0m                                 Traceback (most recent call last)",
            "\u001b[0;32m<ipython-input-1-4bb5d7415e7f>\u001b[0m in \u001b[0;36m<cell line: 5>\u001b[0;34m()\u001b[0m\n\u001b[1;32m      3\u001b[0m \u001b[0msns\u001b[0m\u001b[0;34m.\u001b[0m\u001b[0mset\u001b[0m\u001b[0;34m(\u001b[0m\u001b[0;34m)\u001b[0m\u001b[0;34m\u001b[0m\u001b[0;34m\u001b[0m\u001b[0m\n\u001b[1;32m      4\u001b[0m \u001b[0;34m\u001b[0m\u001b[0m\n\u001b[0;32m----> 5\u001b[0;31m \u001b[0macc\u001b[0m \u001b[0;34m=\u001b[0m \u001b[0mhistory\u001b[0m\u001b[0;34m.\u001b[0m\u001b[0mhistory\u001b[0m\u001b[0;34m[\u001b[0m\u001b[0;34m'accuracy'\u001b[0m\u001b[0;34m]\u001b[0m\u001b[0;34m\u001b[0m\u001b[0;34m\u001b[0m\u001b[0m\n\u001b[0m\u001b[1;32m      6\u001b[0m \u001b[0mval_acc\u001b[0m \u001b[0;34m=\u001b[0m \u001b[0mhistory\u001b[0m\u001b[0;34m.\u001b[0m\u001b[0mhistory\u001b[0m\u001b[0;34m[\u001b[0m\u001b[0;34m'val_accuracy'\u001b[0m\u001b[0;34m]\u001b[0m\u001b[0;34m\u001b[0m\u001b[0;34m\u001b[0m\u001b[0m\n\u001b[1;32m      7\u001b[0m \u001b[0mloss\u001b[0m \u001b[0;34m=\u001b[0m \u001b[0mhistory\u001b[0m\u001b[0;34m.\u001b[0m\u001b[0mhistory\u001b[0m\u001b[0;34m[\u001b[0m\u001b[0;34m'loss'\u001b[0m\u001b[0;34m]\u001b[0m\u001b[0;34m\u001b[0m\u001b[0;34m\u001b[0m\u001b[0m\n",
            "\u001b[0;31mNameError\u001b[0m: name 'history' is not defined"
          ]
        }
      ]
    },
    {
      "cell_type": "code",
      "source": [],
      "metadata": {
        "id": "tmdDObBgcy8i"
      },
      "execution_count": null,
      "outputs": []
    }
  ]
}